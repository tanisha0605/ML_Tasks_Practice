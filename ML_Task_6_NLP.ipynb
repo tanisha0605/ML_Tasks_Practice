{
  "nbformat": 4,
  "nbformat_minor": 0,
  "metadata": {
    "colab": {
      "provenance": [],
      "gpuType": "V28"
    },
    "kernelspec": {
      "name": "python3",
      "display_name": "Python 3"
    },
    "language_info": {
      "name": "python"
    },
    "accelerator": "TPU"
  },
  "cells": [
    {
      "cell_type": "markdown",
      "source": [
        "# **NLP Task 1**\n",
        "\n",
        "## **DJS Synapse Learning Period**\n",
        "![image.png](data:image/png;base64,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)"
      ],
      "metadata": {
        "id": "yJZzWLMF1ECo"
      }
    },
    {
      "cell_type": "markdown",
      "source": [
        "**This task has various theory questions to be answered here and there. We want y'all to go on Google or any other source and research about the same. Don't miss out on those, as they will make y'all conceptually stronger, and give a better understanding.**"
      ],
      "metadata": {
        "id": "wVoh5T6q0pL9"
      }
    },
    {
      "cell_type": "markdown",
      "source": [
        "#**Why NLP?**\n",
        "Natural language cannot be directly understood by the computer, hence we try to convert it into numerical formats which are understood by the computer and can also retain the semantics of the language.\n",
        "\n",
        "For this task, we will first look at the way text is preprocessed to optimize  its representation. Next, we will explore the various ways text can be processed and converted into vector representations that describe the context of that text in the best way possible."
      ],
      "metadata": {
        "id": "CGqyK15F8zEO"
      }
    },
    {
      "cell_type": "markdown",
      "source": [
        "# **NLTK- Natural Language toolkit**\n",
        "Natural language processing (NLP) is a field that focuses on making natural human language usable by computer programs. NLTK, or Natural Language Toolkit, is a Python package that you can use for NLP.\n",
        "\n",
        "NLTK documentation: https://www.nltk.org/"
      ],
      "metadata": {
        "id": "0VTP1xx5hDO8"
      }
    },
    {
      "cell_type": "code",
      "source": [
        "#For people using jupyter notebook, you might have to install the NLTK package. For colab users, you won't have to do so.\n",
        "#!pip install nltk"
      ],
      "metadata": {
        "id": "YhPSUJ8rhrt9"
      },
      "execution_count": null,
      "outputs": []
    },
    {
      "cell_type": "code",
      "source": [
        "par = \"\"\"\n",
        "Natural language processing (NLP) refers to the branch of computer science—and more specifically, the branch of artificial intelligence or AI—concerned with giving computers the ability to understand text and spoken words in much the same way human beings can.\n",
        "\n",
        "NLP combines computational linguistics—rule-based modeling of human language—with statistical, machine learning, and deep learning models. Together, these technologies enable computers to process human language in the form of text or voice data and to ‘understand’ its full meaning, complete with the speaker or writer’s intent and sentiment.\n",
        "\n",
        "NLP drives computer programs that translate text from one language to another, respond to spoken commands, and summarize large volumes of text rapidly—even in real time. There’s a good chance you’ve interacted with NLP in the form of voice-operated GPS systems, digital assistants, speech-to-text dictation software, customer service chatbots, and other consumer conveniences. But NLP also plays a growing role in enterprise solutions that help streamline business operations, increase employee productivity, and simplify mission-critical business processes.\n",
        "\"\"\""
      ],
      "metadata": {
        "id": "EqnQ3mee8prf"
      },
      "execution_count": null,
      "outputs": []
    },
    {
      "cell_type": "code",
      "source": [
        "import nltk\n",
        "import re\n",
        "import pandas as pd\n",
        "from nltk.stem import PorterStemmer\n",
        "from nltk.corpus import stopwords\n",
        "import numpy as np #damn numpy kaha se aa gaya"
      ],
      "metadata": {
        "id": "OuMtIf9wX9wj"
      },
      "execution_count": null,
      "outputs": []
    },
    {
      "cell_type": "code",
      "source": [
        "nltk.download('punkt')\n",
        "nltk.download('stopwords')\n",
        "nltk.download('wordnet')\n",
        "nltk.download('omw-1.4')"
      ],
      "metadata": {
        "colab": {
          "base_uri": "https://localhost:8080/"
        },
        "id": "jZft-ngkaqnq",
        "outputId": "96cbf6a3-f638-4881-fb10-727f111680b3"
      },
      "execution_count": null,
      "outputs": [
        {
          "output_type": "stream",
          "name": "stderr",
          "text": [
            "[nltk_data] Downloading package punkt to /root/nltk_data...\n",
            "[nltk_data]   Unzipping tokenizers/punkt.zip.\n",
            "[nltk_data] Downloading package stopwords to /root/nltk_data...\n",
            "[nltk_data]   Unzipping corpora/stopwords.zip.\n",
            "[nltk_data] Downloading package wordnet to /root/nltk_data...\n",
            "[nltk_data] Downloading package omw-1.4 to /root/nltk_data...\n"
          ]
        },
        {
          "output_type": "execute_result",
          "data": {
            "text/plain": [
              "True"
            ]
          },
          "metadata": {},
          "execution_count": 2
        }
      ]
    },
    {
      "cell_type": "code",
      "source": [
        "# Sentence tokenize your paragraph, check nltk for a suitable function to do so\n",
        "sen =nltk.sent_tokenize(par)"
      ],
      "metadata": {
        "id": "LIw9zKQmAUyZ"
      },
      "execution_count": null,
      "outputs": []
    },
    {
      "cell_type": "markdown",
      "source": [
        "Run both the cells below, as they are the imports for performing stemming and lemmatization respectively"
      ],
      "metadata": {
        "id": "EvgXW745Ak3i"
      }
    },
    {
      "cell_type": "code",
      "source": [
        "stemmer = PorterStemmer()"
      ],
      "metadata": {
        "id": "iiPpxtExa_Nc"
      },
      "execution_count": null,
      "outputs": []
    },
    {
      "cell_type": "code",
      "source": [
        "from nltk.stem import WordNetLemmatizer\n",
        "lemmatizer = WordNetLemmatizer()"
      ],
      "metadata": {
        "id": "vNt2X24Aa_KK"
      },
      "execution_count": null,
      "outputs": []
    },
    {
      "cell_type": "code",
      "source": [
        "# Remove unnecessary characters (one way is regex, are there other ways?) and change the case of the sentences to lower case. Store it in a new list\n",
        "# Add your code here\n",
        "up_sen = []\n",
        "for i in range(len(sen)):\n",
        "  rev = re.sub('[^a-zA-Z]', ' ',sen[i])\n",
        "  rev = rev.lower()\n",
        "  up_sen.append(rev)\n"
      ],
      "metadata": {
        "id": "hww7aWI1a_HN"
      },
      "execution_count": null,
      "outputs": []
    },
    {
      "cell_type": "code",
      "source": [
        "#Check how your paragraph looks so far\n",
        "up_sen"
      ],
      "metadata": {
        "id": "Ax_lrAK9BLfh",
        "colab": {
          "base_uri": "https://localhost:8080/"
        },
        "outputId": "4ee400d7-3f2d-4241-f435-5fb8239b3fe2"
      },
      "execution_count": null,
      "outputs": [
        {
          "output_type": "execute_result",
          "data": {
            "text/plain": [
              "[' natural language processing  nlp  refers to the branch of computer science and more specifically  the branch of artificial intelligence or ai concerned with giving computers the ability to understand text and spoken words in much the same way human beings can ',\n",
              " 'nlp combines computational linguistics rule based modeling of human language with statistical  machine learning  and deep learning models ',\n",
              " 'together  these technologies enable computers to process human language in the form of text or voice data and to  understand  its full meaning  complete with the speaker or writer s intent and sentiment ',\n",
              " 'nlp drives computer programs that translate text from one language to another  respond to spoken commands  and summarize large volumes of text rapidly even in real time ',\n",
              " 'there s a good chance you ve interacted with nlp in the form of voice operated gps systems  digital assistants  speech to text dictation software  customer service chatbots  and other consumer conveniences ',\n",
              " 'but nlp also plays a growing role in enterprise solutions that help streamline business operations  increase employee productivity  and simplify mission critical business processes ']"
            ]
          },
          "metadata": {},
          "execution_count": 59
        }
      ]
    },
    {
      "cell_type": "markdown",
      "source": [
        "Before we deal with stemming and lemmatization, we need to understand what a corpus is, and no, it's not a dead body. Corpus is the collection of all the documents that you may use for your particular NLP project, usually neatly divided into a list of list of words. It is the precursor to building a vector representation of the data and can be thought of as an equivalent to a dataset consisting of words.\n",
        "\n",
        "https://www.quora.com/What-is-corpus-corpora-in-text-mining"
      ],
      "metadata": {
        "id": "0seRb6MgBNt5"
      }
    },
    {
      "cell_type": "markdown",
      "source": [
        "Stemming and lemmatization -\n",
        "\n",
        "https://nlp.stanford.edu/IR-book/html/htmledition/stemming-and-lemmatization-1.html\n",
        "\n",
        "https://www.analyticsvidhya.com/blog/2019/08/how-to-remove-stopwords-text-normalization-nltk-spacy-gensim-python/"
      ],
      "metadata": {
        "id": "Eh0TNfrPDrFK"
      }
    },
    {
      "cell_type": "markdown",
      "source": [
        "## Stemming"
      ],
      "metadata": {
        "id": "JEFOBLf1mIyN"
      }
    },
    {
      "cell_type": "code",
      "source": [
        "# Create a word corpus from the sentences using word tokenization and stemming. Also, remember to avoid adding stopwords to your corpus\n",
        "# Add your code here\n",
        "corp=[]\n",
        "for i in up_sen:\n",
        "  words=nltk.word_tokenize(i)\n",
        "  l=[]\n",
        "  for word in words:\n",
        "    if word not in set(stopwords.words('english')):\n",
        "      l.append(stemmer.stem(word))\n",
        "  corp.append(l)\n",
        "print(i)"
      ],
      "metadata": {
        "id": "yRI0zXLSa-hh",
        "colab": {
          "base_uri": "https://localhost:8080/"
        },
        "outputId": "dafc1fba-67f5-4c62-9296-e9a36f594101"
      },
      "execution_count": null,
      "outputs": [
        {
          "output_type": "stream",
          "name": "stdout",
          "text": [
            "but nlp also plays a growing role in enterprise solutions that help streamline business operations  increase employee productivity  and simplify mission critical business processes \n"
          ]
        }
      ]
    },
    {
      "cell_type": "code",
      "source": [
        "print(corp)"
      ],
      "metadata": {
        "colab": {
          "base_uri": "https://localhost:8080/"
        },
        "id": "9A-r3dzzj2b4",
        "outputId": "dd31d066-24a0-4d7f-cfc4-861c5a3a61da"
      },
      "execution_count": null,
      "outputs": [
        {
          "output_type": "stream",
          "name": "stdout",
          "text": [
            "[['natur', 'languag', 'process', 'nlp', 'refer', 'branch', 'comput', 'scienc', 'specif', 'branch', 'artifici', 'intellig', 'ai', 'concern', 'give', 'comput', 'abil', 'understand', 'text', 'spoken', 'word', 'much', 'way', 'human', 'be'], ['nlp', 'combin', 'comput', 'linguist', 'rule', 'base', 'model', 'human', 'languag', 'statist', 'machin', 'learn', 'deep', 'learn', 'model'], ['togeth', 'technolog', 'enabl', 'comput', 'process', 'human', 'languag', 'form', 'text', 'voic', 'data', 'understand', 'full', 'mean', 'complet', 'speaker', 'writer', 'intent', 'sentiment'], ['nlp', 'drive', 'comput', 'program', 'translat', 'text', 'one', 'languag', 'anoth', 'respond', 'spoken', 'command', 'summar', 'larg', 'volum', 'text', 'rapidli', 'even', 'real', 'time'], ['good', 'chanc', 'interact', 'nlp', 'form', 'voic', 'oper', 'gp', 'system', 'digit', 'assist', 'speech', 'text', 'dictat', 'softwar', 'custom', 'servic', 'chatbot', 'consum', 'conveni'], ['nlp', 'also', 'play', 'grow', 'role', 'enterpris', 'solut', 'help', 'streamlin', 'busi', 'oper', 'increas', 'employe', 'product', 'simplifi', 'mission', 'critic', 'busi', 'process']]\n"
          ]
        }
      ]
    },
    {
      "cell_type": "markdown",
      "source": [
        "**What is Stemming?** <br>\n",
        "Ans:"
      ],
      "metadata": {
        "id": "tzoSqxB-1Vl2"
      }
    },
    {
      "cell_type": "markdown",
      "source": [
        "## Lemmatization"
      ],
      "metadata": {
        "id": "jw3yCINAoSHk"
      }
    },
    {
      "cell_type": "code",
      "source": [
        "# Create a second word corpus from the sentences using word tokenization and lemmatization. Also, remember to avoid adding stopwords to your new corpus\n",
        "# Add your code here\n",
        "corp2=[]\n",
        "for i in up_sen:\n",
        "  words=nltk.word_tokenize(i)\n",
        "  l=[]\n",
        "  for word in words:\n",
        "    if word not in set(stopwords.words('english')):\n",
        "      l.append(lemmatizer.lemmatize(word))\n",
        "  corp2.append(l)\n",
        "print(i)"
      ],
      "metadata": {
        "id": "yKERsPf3fAqT",
        "colab": {
          "base_uri": "https://localhost:8080/"
        },
        "outputId": "8a44a198-a4c3-4c2c-e8fb-ca27cd15a929"
      },
      "execution_count": null,
      "outputs": [
        {
          "output_type": "stream",
          "name": "stdout",
          "text": [
            "but nlp also plays a growing role in enterprise solutions that help streamline business operations  increase employee productivity  and simplify mission critical business processes \n"
          ]
        }
      ]
    },
    {
      "cell_type": "code",
      "source": [
        "print(corp2)"
      ],
      "metadata": {
        "colab": {
          "base_uri": "https://localhost:8080/"
        },
        "id": "ZiFj36uKkPp7",
        "outputId": "99175380-3298-43ca-9c97-b563d4e4f211"
      },
      "execution_count": null,
      "outputs": [
        {
          "output_type": "stream",
          "name": "stdout",
          "text": [
            "[['natural', 'language', 'processing', 'nlp', 'refers', 'branch', 'computer', 'science', 'specifically', 'branch', 'artificial', 'intelligence', 'ai', 'concerned', 'giving', 'computer', 'ability', 'understand', 'text', 'spoken', 'word', 'much', 'way', 'human', 'being'], ['nlp', 'combine', 'computational', 'linguistics', 'rule', 'based', 'modeling', 'human', 'language', 'statistical', 'machine', 'learning', 'deep', 'learning', 'model'], ['together', 'technology', 'enable', 'computer', 'process', 'human', 'language', 'form', 'text', 'voice', 'data', 'understand', 'full', 'meaning', 'complete', 'speaker', 'writer', 'intent', 'sentiment'], ['nlp', 'drive', 'computer', 'program', 'translate', 'text', 'one', 'language', 'another', 'respond', 'spoken', 'command', 'summarize', 'large', 'volume', 'text', 'rapidly', 'even', 'real', 'time'], ['good', 'chance', 'interacted', 'nlp', 'form', 'voice', 'operated', 'gps', 'system', 'digital', 'assistant', 'speech', 'text', 'dictation', 'software', 'customer', 'service', 'chatbots', 'consumer', 'convenience'], ['nlp', 'also', 'play', 'growing', 'role', 'enterprise', 'solution', 'help', 'streamline', 'business', 'operation', 'increase', 'employee', 'productivity', 'simplify', 'mission', 'critical', 'business', 'process']]\n"
          ]
        }
      ]
    },
    {
      "cell_type": "markdown",
      "source": [
        "**What is Lemmatization?** <br>\n",
        "Ans:"
      ],
      "metadata": {
        "id": "IOfvIgeQ2FqU"
      }
    },
    {
      "cell_type": "markdown",
      "source": [
        "**What is the difference between stemming and lemmatization? Is one better than the other? If yes, justify your answer. If no, determine the usecases where these can be used.** <br>\n",
        "Ans:"
      ],
      "metadata": {
        "id": "DK5xATuz2OeS"
      }
    },
    {
      "cell_type": "markdown",
      "source": [
        "To summarize the above preprocessing steps, create a function below with all the steps shown above, obviously perform ONE out of stemming and lemmatization not both. You can add some preprocessing steps if you deem them necessary"
      ],
      "metadata": {
        "id": "8r_8YDYCC-yr"
      }
    },
    {
      "cell_type": "code",
      "source": [
        "# Include all steps of removal of unnecessary characters, lowering, word tokenization, lemmatization and stopwords removal in one function\n",
        "# Add your code here\n",
        "\n",
        "corpus=[]\n",
        "for i in range(len(sen)):\n",
        "  rev = re.sub('[^a-zA-Z]', ' ', sen[i])\n",
        "  rev = rev.lower()\n",
        "  rev = nltk.word_tokenize(rev)\n",
        "  rev = [lemmatizer.lemmatize(word) for word in rev if word not in set(stopwords.words('english'))]\n",
        "  rev = ' '.join(rev)\n",
        "  corpus.append(rev)"
      ],
      "metadata": {
        "id": "c5iHKZMGMSvJ"
      },
      "execution_count": null,
      "outputs": []
    },
    {
      "cell_type": "code",
      "source": [
        "print(corpus)"
      ],
      "metadata": {
        "colab": {
          "base_uri": "https://localhost:8080/"
        },
        "id": "9JRHmYi2lFw7",
        "outputId": "0a3a1af0-b82e-473f-856b-ea08f1b4600e"
      },
      "execution_count": null,
      "outputs": [
        {
          "output_type": "stream",
          "name": "stdout",
          "text": [
            "['natural language processing nlp refers branch computer science specifically branch artificial intelligence ai concerned giving computer ability understand text spoken word much way human being', 'nlp combine computational linguistics rule based modeling human language statistical machine learning deep learning model', 'together technology enable computer process human language form text voice data understand full meaning complete speaker writer intent sentiment', 'nlp drive computer program translate text one language another respond spoken command summarize large volume text rapidly even real time', 'good chance interacted nlp form voice operated gps system digital assistant speech text dictation software customer service chatbots consumer convenience', 'nlp also play growing role enterprise solution help streamline business operation increase employee productivity simplify mission critical business process']\n"
          ]
        }
      ]
    },
    {
      "cell_type": "markdown",
      "source": [
        "#Text Vectorization"
      ],
      "metadata": {
        "id": "E1RtdygNFN_m"
      }
    },
    {
      "cell_type": "markdown",
      "source": [
        "This is one of the most important steps in an NLP pipeline, since text vectorization is responsible for converting plain text into a numerical format that aims to capture as much context as possible. There have been numerous attempts throughtout the years to develop methods to efficiently vectorize text, each building upon the strengths of their predecessor. These generated vectors are often referred to as word embeddings.\n",
        "\n",
        "Some of the methods used for generating word embeddings are:\n",
        "\n",
        "1.   Count or Frequency based\n",
        "*   Bag of Words\n",
        "*   TF-IDF\n",
        "*   One Hot Encoding\n",
        "\n",
        "\n",
        "\n",
        "2.   Deep Learning Based Pre-Trained Models\n",
        "*   Word2Vec\n",
        "*   BERT\n",
        "\n",
        "We will explore some of these in this notebook.\n",
        "\n",
        "(OPTIONAL) An interesting read on the history and nature of word embeddings -\n",
        "\n",
        "https://aylien.com/blog/overview-word-embeddings-history-word2vec-cbow-glove"
      ],
      "metadata": {
        "id": "ki5vAhvdFcom"
      }
    },
    {
      "cell_type": "markdown",
      "source": [
        "## Count Vectorizer"
      ],
      "metadata": {
        "id": "a2FwCaAq4X9S"
      }
    },
    {
      "cell_type": "markdown",
      "source": [
        "CountVectorizer is an implementation of the Bag of Words method of generating embeddings. It is possibly the most simplistic way to create a vector representation of text, so do the research yourself on this one :)"
      ],
      "metadata": {
        "id": "QxpVlgN2HbRt"
      }
    },
    {
      "cell_type": "code",
      "source": [
        "#Run this cell after understanding what's happening here\n",
        "from sklearn.feature_extraction.text import CountVectorizer\n",
        "cv = CountVectorizer(ngram_range=(2,3), max_features=10)\n",
        "x = cv.fit_transform(corpus)\n",
        "cv.vocabulary_"
      ],
      "metadata": {
        "id": "zZ2gQbRphZcR",
        "colab": {
          "base_uri": "https://localhost:8080/"
        },
        "outputId": "e82028f9-db89-4ea2-e898-ab8b207e557b"
      },
      "execution_count": null,
      "outputs": [
        {
          "output_type": "execute_result",
          "data": {
            "text/plain": [
              "{'processing nlp': 4,\n",
              " 'ability understand': 0,\n",
              " 'processing nlp refers': 5,\n",
              " 'human language': 1,\n",
              " 'process human': 2,\n",
              " 'process human language': 3,\n",
              " 'program translate': 8,\n",
              " 'program translate text': 9,\n",
              " 'productivity simplify': 6,\n",
              " 'productivity simplify mission': 7}"
            ]
          },
          "metadata": {},
          "execution_count": 35
        }
      ]
    },
    {
      "cell_type": "code",
      "source": [
        "corpus[0]"
      ],
      "metadata": {
        "id": "JYfmzSHiPFTC",
        "colab": {
          "base_uri": "https://localhost:8080/",
          "height": 52
        },
        "outputId": "21c6e838-ea4c-497b-ab36-bcf3dca5c9dc"
      },
      "execution_count": null,
      "outputs": [
        {
          "output_type": "execute_result",
          "data": {
            "text/plain": [
              "'natural language processing nlp refers branch computer science specifically branch artificial intelligence ai concerned giving computer ability understand text spoken word much way human being'"
            ],
            "application/vnd.google.colaboratory.intrinsic+json": {
              "type": "string"
            }
          },
          "metadata": {},
          "execution_count": 37
        }
      ]
    },
    {
      "cell_type": "code",
      "source": [
        "x[0].toarray()"
      ],
      "metadata": {
        "id": "V9nXo5NlnIX4",
        "colab": {
          "base_uri": "https://localhost:8080/"
        },
        "outputId": "9a8a9eed-cb8f-4891-9e52-7a3bfeb854f9"
      },
      "execution_count": null,
      "outputs": [
        {
          "output_type": "execute_result",
          "data": {
            "text/plain": [
              "array([[1, 0, 0, 0, 1, 1, 0, 0, 0, 0]])"
            ]
          },
          "metadata": {},
          "execution_count": 38
        }
      ]
    },
    {
      "cell_type": "code",
      "source": [
        "#Explore what the get_feature_names_out function does and make a dataframe using the same\n"
      ],
      "metadata": {
        "id": "WLsENLvuMB-8"
      },
      "execution_count": null,
      "outputs": []
    },
    {
      "cell_type": "markdown",
      "source": [
        "**What is the use of Count Vectorizer?** <br>\n",
        "Ans:"
      ],
      "metadata": {
        "id": "V-WsTk-o4bro"
      }
    },
    {
      "cell_type": "markdown",
      "source": [
        "**What do the hyperparameters ngram_range and max_features mean?** <br>\n",
        "Ans: (Can refer the documentation, and can also learn about more such parameters)"
      ],
      "metadata": {
        "id": "XtmvD8A44pc3"
      }
    },
    {
      "cell_type": "markdown",
      "source": [
        "## TF-IDF Vectorizer"
      ],
      "metadata": {
        "id": "trv21AlBS2dB"
      }
    },
    {
      "cell_type": "markdown",
      "source": [
        "Theory behind TF-IDF\n",
        "\n",
        "https://medium.com/@cmukesh8688/tf-idf-vectorizer-scikit-learn-dbc0244a911a\n",
        "\n",
        "Slightly easier explanation\n",
        "\n",
        "https://www.kdnuggets.com/2022/09/convert-text-documents-tfidf-matrix-tfidfvectorizer.html#:~:text=Term%20frequency%20Inverse%20document%20frequency,relevant%20words%20in%20the%20document."
      ],
      "metadata": {
        "id": "7ysYO04lIjMF"
      }
    },
    {
      "cell_type": "markdown",
      "source": [
        "Just for fun (hehe), we will attempt to create a TF-IDF vectorizer from scratch, this is just so you get an idea of what happens behind the scenes and you can see there's no magic involved here, just some simple ol equations."
      ],
      "metadata": {
        "id": "PjPadvpEI-mF"
      }
    },
    {
      "cell_type": "code",
      "source": [
        "word_set = []\n",
        "sentence = []\n",
        "for sent in sen:\n",
        "  #Extract unnecessary characters, tokenize the sentence into words and convert it to lowercase\n",
        "  x = [i.lower() for i in nltk.word_tokenize(sent) if i.isalpha()]\n",
        "  sentence.append(x)\n",
        "  #Append word to the word_set if it isin't a stop word\n",
        "  for word in x:\n",
        "      if word not in word_set:\n",
        "          word_set.append(word)\n",
        "\n",
        "#Set of vocabulary\n",
        "word_set = set(word_set)\n",
        "#Total documents in our corpus(i.e number of sentences)\n",
        "total_documents = len(sen)\n",
        "\n",
        "#Create an index for each word in our vocab.\n",
        "index_dict = {} #Dictionary to store index for each word\n",
        "\n",
        "i = 0\n",
        "for word in word_set:\n",
        "    index_dict[word] = i\n",
        "    i += 1\n",
        "\n",
        "#Create a count dictionary which stores the number of occurences of each word in the entire corpus\n",
        "def count_dict(sentences):\n",
        "  word_count = {}\n",
        "  for word in word_set:\n",
        "      word_count[word] = 0\n",
        "      for sent in sentences:\n",
        "          if word in sent:\n",
        "              word_count[word] += 1\n",
        "  return word_count\n",
        "\n",
        "word_count = count_dict(sen)\n",
        "\n",
        "#Create a function to calculate the Term Frequency for a given word in a given document\n",
        "def termfreq(document, word):\n",
        "    N = len(document)\n",
        "    occurance = len([token for token in document if token == word])\n",
        "    return occurance/N\n",
        "\n",
        "#Create a function to find Inverse Document Frequency for a given word\n",
        "def inverse_doc_freq(word):\n",
        "    word_occurance = word_count.get(word, 0) + 1\n",
        "    return np.log(total_documents/word_occurance)\n",
        "\n",
        "#Now create a function that for every word in a sentence, returns a vector tf_idf_vec which contains the output of the TF and IDF of that word\n",
        "def tf_idf(sentence):\n",
        "    tf_idf_vec = np.zeros((len(word_set),))\n",
        "    for word in sentence:\n",
        "        tf = termfreq(sentence,word)\n",
        "        idf = inverse_doc_freq(word)\n",
        "        value = tf*idf\n",
        "        tf_idf_vec[index_dict[word]] = value\n",
        "    return tf_idf_vec\n",
        "\n",
        "#Now finally, for each sentence in the document, pass it through the tf_idf function to get a vector; append these vectors to get your final representation\n",
        "vectors = []\n",
        "for sent in sentence:\n",
        "    vec = tf_idf(sent)\n",
        "    vectors.append(vec)\n",
        "\n",
        "#This is what it should like if all your hard work pays off making a tf-idf vectoriser from scratch:\n",
        "vectors[0]\n",
        "\n"
      ],
      "metadata": {
        "id": "OqbTQ0AVLbzk",
        "colab": {
          "base_uri": "https://localhost:8080/"
        },
        "outputId": "0521ab0e-a8d4-4529-807e-af762e140543"
      },
      "execution_count": null,
      "outputs": [
        {
          "output_type": "execute_result",
          "data": {
            "text/plain": [
              "array([-0.00416623,  0.        ,  0.        , -0.00416623,  0.        ,\n",
              "        0.        ,  0.01873371,  0.        ,  0.        ,  0.        ,\n",
              "        0.00492761,  0.        ,  0.        ,  0.        ,  0.        ,\n",
              "        0.01095852,  0.        ,  0.02969222,  0.        ,  0.        ,\n",
              "        0.        ,  0.02969222,  0.        ,  0.        ,  0.        ,\n",
              "        0.        ,  0.        ,  0.        ,  0.        ,  0.01873371,\n",
              "        0.        ,  0.        ,  0.02969222,  0.        ,  0.        ,\n",
              "        0.04842593,  0.02969222,  0.01095852,  0.02969222,  0.02969222,\n",
              "        0.        ,  0.        ,  0.        ,  0.        ,  0.        ,\n",
              "        0.        ,  0.        ,  0.02969222,  0.        ,  0.        ,\n",
              "        0.        ,  0.04842593,  0.00492761,  0.        ,  0.        ,\n",
              "        0.        ,  0.01971044,  0.        ,  0.        ,  0.05938445,\n",
              "        0.00985522,  0.02969222,  0.02969222,  0.        ,  0.        ,\n",
              "        0.        ,  0.        ,  0.        ,  0.        ,  0.        ,\n",
              "        0.01873371,  0.        ,  0.        ,  0.        ,  0.        ,\n",
              "        0.        ,  0.01095852,  0.        ,  0.        ,  0.        ,\n",
              "        0.02969222,  0.        ,  0.        ,  0.        ,  0.        ,\n",
              "        0.        ,  0.02969222,  0.        ,  0.        ,  0.        ,\n",
              "        0.        ,  0.02969222,  0.00492761,  0.02969222,  0.        ,\n",
              "        0.        ,  0.        ,  0.        ,  0.        ,  0.        ,\n",
              "        0.        ,  0.02969222,  0.        ,  0.        ,  0.        ])"
            ]
          },
          "metadata": {},
          "execution_count": 42
        }
      ]
    },
    {
      "cell_type": "code",
      "source": [
        "tfidf_df = pd.DataFrame(vectors,columns=sorted(word_set))\n",
        "\n",
        "# Step 7: Print the TF-IDF matrix\n",
        "print(\"TF-IDF Matrix:\")\n",
        "tfidf_df"
      ],
      "metadata": {
        "id": "tbJ-8fEyMMKg",
        "colab": {
          "base_uri": "https://localhost:8080/",
          "height": 304
        },
        "outputId": "794031e6-60a8-4d3e-f2af-7e69796a4478"
      },
      "execution_count": null,
      "outputs": [
        {
          "output_type": "stream",
          "name": "stdout",
          "text": [
            "TF-IDF Matrix:\n"
          ]
        },
        {
          "output_type": "execute_result",
          "data": {
            "text/plain": [
              "          a   ability  also       and   another  artificial  assistants  \\\n",
              "0 -0.004166  0.000000   0.0 -0.004166  0.000000    0.000000    0.018734   \n",
              "1  0.000000  0.000000   0.0 -0.011858  0.000000    0.000000    0.000000   \n",
              "2 -0.004671  0.033291   0.0 -0.009342  0.000000    0.000000    0.021004   \n",
              "3 -0.006166  0.000000   0.0 -0.006166  0.000000    0.000000    0.000000   \n",
              "4 -0.005709  0.000000   0.0 -0.005709  0.040689    0.040689    0.000000   \n",
              "5 -0.007007  0.000000   0.0 -0.007007  0.000000    0.000000    0.000000   \n",
              "\n",
              "     beings    branch  business  ...  translate  understand        ve  \\\n",
              "0  0.000000  0.000000  0.000000  ...   0.000000    0.000000  0.000000   \n",
              "1  0.000000  0.000000  0.000000  ...   0.000000    0.000000  0.000000   \n",
              "2  0.000000  0.000000  0.000000  ...   0.000000    0.000000  0.000000   \n",
              "3  0.000000  0.000000  0.000000  ...   0.000000    0.000000  0.043944   \n",
              "4  0.040689 -0.005709  0.000000  ...   0.040689    0.040689  0.000000   \n",
              "5  0.000000 -0.007007  0.049937  ...   0.000000    0.000000  0.000000   \n",
              "\n",
              "      voice   volumes       way      with     words    writer       you  \n",
              "0  0.000000  0.000000  0.000000  0.029692  0.000000  0.000000  0.000000  \n",
              "1  0.000000  0.000000  0.000000  0.000000  0.000000  0.000000  0.084509  \n",
              "2  0.000000  0.000000  0.000000  0.000000  0.000000  0.000000  0.000000  \n",
              "3  0.000000  0.043944  0.000000  0.000000  0.000000  0.000000  0.000000  \n",
              "4  0.066361  0.000000  0.000000  0.000000  0.040689  0.000000  0.000000  \n",
              "5  0.000000  0.000000  0.049937  0.000000  0.000000  0.049937  0.000000  \n",
              "\n",
              "[6 rows x 105 columns]"
            ],
            "text/html": [
              "\n",
              "  <div id=\"df-83730803-9bff-497f-a3dc-c64b1be011ff\" class=\"colab-df-container\">\n",
              "    <div>\n",
              "<style scoped>\n",
              "    .dataframe tbody tr th:only-of-type {\n",
              "        vertical-align: middle;\n",
              "    }\n",
              "\n",
              "    .dataframe tbody tr th {\n",
              "        vertical-align: top;\n",
              "    }\n",
              "\n",
              "    .dataframe thead th {\n",
              "        text-align: right;\n",
              "    }\n",
              "</style>\n",
              "<table border=\"1\" class=\"dataframe\">\n",
              "  <thead>\n",
              "    <tr style=\"text-align: right;\">\n",
              "      <th></th>\n",
              "      <th>a</th>\n",
              "      <th>ability</th>\n",
              "      <th>also</th>\n",
              "      <th>and</th>\n",
              "      <th>another</th>\n",
              "      <th>artificial</th>\n",
              "      <th>assistants</th>\n",
              "      <th>beings</th>\n",
              "      <th>branch</th>\n",
              "      <th>business</th>\n",
              "      <th>...</th>\n",
              "      <th>translate</th>\n",
              "      <th>understand</th>\n",
              "      <th>ve</th>\n",
              "      <th>voice</th>\n",
              "      <th>volumes</th>\n",
              "      <th>way</th>\n",
              "      <th>with</th>\n",
              "      <th>words</th>\n",
              "      <th>writer</th>\n",
              "      <th>you</th>\n",
              "    </tr>\n",
              "  </thead>\n",
              "  <tbody>\n",
              "    <tr>\n",
              "      <th>0</th>\n",
              "      <td>-0.004166</td>\n",
              "      <td>0.000000</td>\n",
              "      <td>0.0</td>\n",
              "      <td>-0.004166</td>\n",
              "      <td>0.000000</td>\n",
              "      <td>0.000000</td>\n",
              "      <td>0.018734</td>\n",
              "      <td>0.000000</td>\n",
              "      <td>0.000000</td>\n",
              "      <td>0.000000</td>\n",
              "      <td>...</td>\n",
              "      <td>0.000000</td>\n",
              "      <td>0.000000</td>\n",
              "      <td>0.000000</td>\n",
              "      <td>0.000000</td>\n",
              "      <td>0.000000</td>\n",
              "      <td>0.000000</td>\n",
              "      <td>0.029692</td>\n",
              "      <td>0.000000</td>\n",
              "      <td>0.000000</td>\n",
              "      <td>0.000000</td>\n",
              "    </tr>\n",
              "    <tr>\n",
              "      <th>1</th>\n",
              "      <td>0.000000</td>\n",
              "      <td>0.000000</td>\n",
              "      <td>0.0</td>\n",
              "      <td>-0.011858</td>\n",
              "      <td>0.000000</td>\n",
              "      <td>0.000000</td>\n",
              "      <td>0.000000</td>\n",
              "      <td>0.000000</td>\n",
              "      <td>0.000000</td>\n",
              "      <td>0.000000</td>\n",
              "      <td>...</td>\n",
              "      <td>0.000000</td>\n",
              "      <td>0.000000</td>\n",
              "      <td>0.000000</td>\n",
              "      <td>0.000000</td>\n",
              "      <td>0.000000</td>\n",
              "      <td>0.000000</td>\n",
              "      <td>0.000000</td>\n",
              "      <td>0.000000</td>\n",
              "      <td>0.000000</td>\n",
              "      <td>0.084509</td>\n",
              "    </tr>\n",
              "    <tr>\n",
              "      <th>2</th>\n",
              "      <td>-0.004671</td>\n",
              "      <td>0.033291</td>\n",
              "      <td>0.0</td>\n",
              "      <td>-0.009342</td>\n",
              "      <td>0.000000</td>\n",
              "      <td>0.000000</td>\n",
              "      <td>0.021004</td>\n",
              "      <td>0.000000</td>\n",
              "      <td>0.000000</td>\n",
              "      <td>0.000000</td>\n",
              "      <td>...</td>\n",
              "      <td>0.000000</td>\n",
              "      <td>0.000000</td>\n",
              "      <td>0.000000</td>\n",
              "      <td>0.000000</td>\n",
              "      <td>0.000000</td>\n",
              "      <td>0.000000</td>\n",
              "      <td>0.000000</td>\n",
              "      <td>0.000000</td>\n",
              "      <td>0.000000</td>\n",
              "      <td>0.000000</td>\n",
              "    </tr>\n",
              "    <tr>\n",
              "      <th>3</th>\n",
              "      <td>-0.006166</td>\n",
              "      <td>0.000000</td>\n",
              "      <td>0.0</td>\n",
              "      <td>-0.006166</td>\n",
              "      <td>0.000000</td>\n",
              "      <td>0.000000</td>\n",
              "      <td>0.000000</td>\n",
              "      <td>0.000000</td>\n",
              "      <td>0.000000</td>\n",
              "      <td>0.000000</td>\n",
              "      <td>...</td>\n",
              "      <td>0.000000</td>\n",
              "      <td>0.000000</td>\n",
              "      <td>0.043944</td>\n",
              "      <td>0.000000</td>\n",
              "      <td>0.043944</td>\n",
              "      <td>0.000000</td>\n",
              "      <td>0.000000</td>\n",
              "      <td>0.000000</td>\n",
              "      <td>0.000000</td>\n",
              "      <td>0.000000</td>\n",
              "    </tr>\n",
              "    <tr>\n",
              "      <th>4</th>\n",
              "      <td>-0.005709</td>\n",
              "      <td>0.000000</td>\n",
              "      <td>0.0</td>\n",
              "      <td>-0.005709</td>\n",
              "      <td>0.040689</td>\n",
              "      <td>0.040689</td>\n",
              "      <td>0.000000</td>\n",
              "      <td>0.040689</td>\n",
              "      <td>-0.005709</td>\n",
              "      <td>0.000000</td>\n",
              "      <td>...</td>\n",
              "      <td>0.040689</td>\n",
              "      <td>0.040689</td>\n",
              "      <td>0.000000</td>\n",
              "      <td>0.066361</td>\n",
              "      <td>0.000000</td>\n",
              "      <td>0.000000</td>\n",
              "      <td>0.000000</td>\n",
              "      <td>0.040689</td>\n",
              "      <td>0.000000</td>\n",
              "      <td>0.000000</td>\n",
              "    </tr>\n",
              "    <tr>\n",
              "      <th>5</th>\n",
              "      <td>-0.007007</td>\n",
              "      <td>0.000000</td>\n",
              "      <td>0.0</td>\n",
              "      <td>-0.007007</td>\n",
              "      <td>0.000000</td>\n",
              "      <td>0.000000</td>\n",
              "      <td>0.000000</td>\n",
              "      <td>0.000000</td>\n",
              "      <td>-0.007007</td>\n",
              "      <td>0.049937</td>\n",
              "      <td>...</td>\n",
              "      <td>0.000000</td>\n",
              "      <td>0.000000</td>\n",
              "      <td>0.000000</td>\n",
              "      <td>0.000000</td>\n",
              "      <td>0.000000</td>\n",
              "      <td>0.049937</td>\n",
              "      <td>0.000000</td>\n",
              "      <td>0.000000</td>\n",
              "      <td>0.049937</td>\n",
              "      <td>0.000000</td>\n",
              "    </tr>\n",
              "  </tbody>\n",
              "</table>\n",
              "<p>6 rows × 105 columns</p>\n",
              "</div>\n",
              "    <div class=\"colab-df-buttons\">\n",
              "\n",
              "  <div class=\"colab-df-container\">\n",
              "    <button class=\"colab-df-convert\" onclick=\"convertToInteractive('df-83730803-9bff-497f-a3dc-c64b1be011ff')\"\n",
              "            title=\"Convert this dataframe to an interactive table.\"\n",
              "            style=\"display:none;\">\n",
              "\n",
              "  <svg xmlns=\"http://www.w3.org/2000/svg\" height=\"24px\" viewBox=\"0 -960 960 960\">\n",
              "    <path d=\"M120-120v-720h720v720H120Zm60-500h600v-160H180v160Zm220 220h160v-160H400v160Zm0 220h160v-160H400v160ZM180-400h160v-160H180v160Zm440 0h160v-160H620v160ZM180-180h160v-160H180v160Zm440 0h160v-160H620v160Z\"/>\n",
              "  </svg>\n",
              "    </button>\n",
              "\n",
              "  <style>\n",
              "    .colab-df-container {\n",
              "      display:flex;\n",
              "      gap: 12px;\n",
              "    }\n",
              "\n",
              "    .colab-df-convert {\n",
              "      background-color: #E8F0FE;\n",
              "      border: none;\n",
              "      border-radius: 50%;\n",
              "      cursor: pointer;\n",
              "      display: none;\n",
              "      fill: #1967D2;\n",
              "      height: 32px;\n",
              "      padding: 0 0 0 0;\n",
              "      width: 32px;\n",
              "    }\n",
              "\n",
              "    .colab-df-convert:hover {\n",
              "      background-color: #E2EBFA;\n",
              "      box-shadow: 0px 1px 2px rgba(60, 64, 67, 0.3), 0px 1px 3px 1px rgba(60, 64, 67, 0.15);\n",
              "      fill: #174EA6;\n",
              "    }\n",
              "\n",
              "    .colab-df-buttons div {\n",
              "      margin-bottom: 4px;\n",
              "    }\n",
              "\n",
              "    [theme=dark] .colab-df-convert {\n",
              "      background-color: #3B4455;\n",
              "      fill: #D2E3FC;\n",
              "    }\n",
              "\n",
              "    [theme=dark] .colab-df-convert:hover {\n",
              "      background-color: #434B5C;\n",
              "      box-shadow: 0px 1px 3px 1px rgba(0, 0, 0, 0.15);\n",
              "      filter: drop-shadow(0px 1px 2px rgba(0, 0, 0, 0.3));\n",
              "      fill: #FFFFFF;\n",
              "    }\n",
              "  </style>\n",
              "\n",
              "    <script>\n",
              "      const buttonEl =\n",
              "        document.querySelector('#df-83730803-9bff-497f-a3dc-c64b1be011ff button.colab-df-convert');\n",
              "      buttonEl.style.display =\n",
              "        google.colab.kernel.accessAllowed ? 'block' : 'none';\n",
              "\n",
              "      async function convertToInteractive(key) {\n",
              "        const element = document.querySelector('#df-83730803-9bff-497f-a3dc-c64b1be011ff');\n",
              "        const dataTable =\n",
              "          await google.colab.kernel.invokeFunction('convertToInteractive',\n",
              "                                                    [key], {});\n",
              "        if (!dataTable) return;\n",
              "\n",
              "        const docLinkHtml = 'Like what you see? Visit the ' +\n",
              "          '<a target=\"_blank\" href=https://colab.research.google.com/notebooks/data_table.ipynb>data table notebook</a>'\n",
              "          + ' to learn more about interactive tables.';\n",
              "        element.innerHTML = '';\n",
              "        dataTable['output_type'] = 'display_data';\n",
              "        await google.colab.output.renderOutput(dataTable, element);\n",
              "        const docLink = document.createElement('div');\n",
              "        docLink.innerHTML = docLinkHtml;\n",
              "        element.appendChild(docLink);\n",
              "      }\n",
              "    </script>\n",
              "  </div>\n",
              "\n",
              "\n",
              "<div id=\"df-1393123d-64fe-49ec-a04d-6690899819bf\">\n",
              "  <button class=\"colab-df-quickchart\" onclick=\"quickchart('df-1393123d-64fe-49ec-a04d-6690899819bf')\"\n",
              "            title=\"Suggest charts\"\n",
              "            style=\"display:none;\">\n",
              "\n",
              "<svg xmlns=\"http://www.w3.org/2000/svg\" height=\"24px\"viewBox=\"0 0 24 24\"\n",
              "     width=\"24px\">\n",
              "    <g>\n",
              "        <path d=\"M19 3H5c-1.1 0-2 .9-2 2v14c0 1.1.9 2 2 2h14c1.1 0 2-.9 2-2V5c0-1.1-.9-2-2-2zM9 17H7v-7h2v7zm4 0h-2V7h2v10zm4 0h-2v-4h2v4z\"/>\n",
              "    </g>\n",
              "</svg>\n",
              "  </button>\n",
              "\n",
              "<style>\n",
              "  .colab-df-quickchart {\n",
              "      --bg-color: #E8F0FE;\n",
              "      --fill-color: #1967D2;\n",
              "      --hover-bg-color: #E2EBFA;\n",
              "      --hover-fill-color: #174EA6;\n",
              "      --disabled-fill-color: #AAA;\n",
              "      --disabled-bg-color: #DDD;\n",
              "  }\n",
              "\n",
              "  [theme=dark] .colab-df-quickchart {\n",
              "      --bg-color: #3B4455;\n",
              "      --fill-color: #D2E3FC;\n",
              "      --hover-bg-color: #434B5C;\n",
              "      --hover-fill-color: #FFFFFF;\n",
              "      --disabled-bg-color: #3B4455;\n",
              "      --disabled-fill-color: #666;\n",
              "  }\n",
              "\n",
              "  .colab-df-quickchart {\n",
              "    background-color: var(--bg-color);\n",
              "    border: none;\n",
              "    border-radius: 50%;\n",
              "    cursor: pointer;\n",
              "    display: none;\n",
              "    fill: var(--fill-color);\n",
              "    height: 32px;\n",
              "    padding: 0;\n",
              "    width: 32px;\n",
              "  }\n",
              "\n",
              "  .colab-df-quickchart:hover {\n",
              "    background-color: var(--hover-bg-color);\n",
              "    box-shadow: 0 1px 2px rgba(60, 64, 67, 0.3), 0 1px 3px 1px rgba(60, 64, 67, 0.15);\n",
              "    fill: var(--button-hover-fill-color);\n",
              "  }\n",
              "\n",
              "  .colab-df-quickchart-complete:disabled,\n",
              "  .colab-df-quickchart-complete:disabled:hover {\n",
              "    background-color: var(--disabled-bg-color);\n",
              "    fill: var(--disabled-fill-color);\n",
              "    box-shadow: none;\n",
              "  }\n",
              "\n",
              "  .colab-df-spinner {\n",
              "    border: 2px solid var(--fill-color);\n",
              "    border-color: transparent;\n",
              "    border-bottom-color: var(--fill-color);\n",
              "    animation:\n",
              "      spin 1s steps(1) infinite;\n",
              "  }\n",
              "\n",
              "  @keyframes spin {\n",
              "    0% {\n",
              "      border-color: transparent;\n",
              "      border-bottom-color: var(--fill-color);\n",
              "      border-left-color: var(--fill-color);\n",
              "    }\n",
              "    20% {\n",
              "      border-color: transparent;\n",
              "      border-left-color: var(--fill-color);\n",
              "      border-top-color: var(--fill-color);\n",
              "    }\n",
              "    30% {\n",
              "      border-color: transparent;\n",
              "      border-left-color: var(--fill-color);\n",
              "      border-top-color: var(--fill-color);\n",
              "      border-right-color: var(--fill-color);\n",
              "    }\n",
              "    40% {\n",
              "      border-color: transparent;\n",
              "      border-right-color: var(--fill-color);\n",
              "      border-top-color: var(--fill-color);\n",
              "    }\n",
              "    60% {\n",
              "      border-color: transparent;\n",
              "      border-right-color: var(--fill-color);\n",
              "    }\n",
              "    80% {\n",
              "      border-color: transparent;\n",
              "      border-right-color: var(--fill-color);\n",
              "      border-bottom-color: var(--fill-color);\n",
              "    }\n",
              "    90% {\n",
              "      border-color: transparent;\n",
              "      border-bottom-color: var(--fill-color);\n",
              "    }\n",
              "  }\n",
              "</style>\n",
              "\n",
              "  <script>\n",
              "    async function quickchart(key) {\n",
              "      const quickchartButtonEl =\n",
              "        document.querySelector('#' + key + ' button');\n",
              "      quickchartButtonEl.disabled = true;  // To prevent multiple clicks.\n",
              "      quickchartButtonEl.classList.add('colab-df-spinner');\n",
              "      try {\n",
              "        const charts = await google.colab.kernel.invokeFunction(\n",
              "            'suggestCharts', [key], {});\n",
              "      } catch (error) {\n",
              "        console.error('Error during call to suggestCharts:', error);\n",
              "      }\n",
              "      quickchartButtonEl.classList.remove('colab-df-spinner');\n",
              "      quickchartButtonEl.classList.add('colab-df-quickchart-complete');\n",
              "    }\n",
              "    (() => {\n",
              "      let quickchartButtonEl =\n",
              "        document.querySelector('#df-1393123d-64fe-49ec-a04d-6690899819bf button');\n",
              "      quickchartButtonEl.style.display =\n",
              "        google.colab.kernel.accessAllowed ? 'block' : 'none';\n",
              "    })();\n",
              "  </script>\n",
              "</div>\n",
              "\n",
              "  <div id=\"id_ec92eec0-a330-4758-8d07-6fd55a23f4d6\">\n",
              "    <style>\n",
              "      .colab-df-generate {\n",
              "        background-color: #E8F0FE;\n",
              "        border: none;\n",
              "        border-radius: 50%;\n",
              "        cursor: pointer;\n",
              "        display: none;\n",
              "        fill: #1967D2;\n",
              "        height: 32px;\n",
              "        padding: 0 0 0 0;\n",
              "        width: 32px;\n",
              "      }\n",
              "\n",
              "      .colab-df-generate:hover {\n",
              "        background-color: #E2EBFA;\n",
              "        box-shadow: 0px 1px 2px rgba(60, 64, 67, 0.3), 0px 1px 3px 1px rgba(60, 64, 67, 0.15);\n",
              "        fill: #174EA6;\n",
              "      }\n",
              "\n",
              "      [theme=dark] .colab-df-generate {\n",
              "        background-color: #3B4455;\n",
              "        fill: #D2E3FC;\n",
              "      }\n",
              "\n",
              "      [theme=dark] .colab-df-generate:hover {\n",
              "        background-color: #434B5C;\n",
              "        box-shadow: 0px 1px 3px 1px rgba(0, 0, 0, 0.15);\n",
              "        filter: drop-shadow(0px 1px 2px rgba(0, 0, 0, 0.3));\n",
              "        fill: #FFFFFF;\n",
              "      }\n",
              "    </style>\n",
              "    <button class=\"colab-df-generate\" onclick=\"generateWithVariable('tfidf_df')\"\n",
              "            title=\"Generate code using this dataframe.\"\n",
              "            style=\"display:none;\">\n",
              "\n",
              "  <svg xmlns=\"http://www.w3.org/2000/svg\" height=\"24px\"viewBox=\"0 0 24 24\"\n",
              "       width=\"24px\">\n",
              "    <path d=\"M7,19H8.4L18.45,9,17,7.55,7,17.6ZM5,21V16.75L18.45,3.32a2,2,0,0,1,2.83,0l1.4,1.43a1.91,1.91,0,0,1,.58,1.4,1.91,1.91,0,0,1-.58,1.4L9.25,21ZM18.45,9,17,7.55Zm-12,3A5.31,5.31,0,0,0,4.9,8.1,5.31,5.31,0,0,0,1,6.5,5.31,5.31,0,0,0,4.9,4.9,5.31,5.31,0,0,0,6.5,1,5.31,5.31,0,0,0,8.1,4.9,5.31,5.31,0,0,0,12,6.5,5.46,5.46,0,0,0,6.5,12Z\"/>\n",
              "  </svg>\n",
              "    </button>\n",
              "    <script>\n",
              "      (() => {\n",
              "      const buttonEl =\n",
              "        document.querySelector('#id_ec92eec0-a330-4758-8d07-6fd55a23f4d6 button.colab-df-generate');\n",
              "      buttonEl.style.display =\n",
              "        google.colab.kernel.accessAllowed ? 'block' : 'none';\n",
              "\n",
              "      buttonEl.onclick = () => {\n",
              "        google.colab.notebook.generateWithVariable('tfidf_df');\n",
              "      }\n",
              "      })();\n",
              "    </script>\n",
              "  </div>\n",
              "\n",
              "    </div>\n",
              "  </div>\n"
            ],
            "application/vnd.google.colaboratory.intrinsic+json": {
              "type": "dataframe",
              "variable_name": "tfidf_df"
            }
          },
          "metadata": {},
          "execution_count": 43
        }
      ]
    },
    {
      "cell_type": "markdown",
      "source": [
        "Just for good measure, import TfidfVectorizer and fit the corpus data and view the vectors it has created"
      ],
      "metadata": {
        "id": "T7QyAPlMLqX8"
      }
    },
    {
      "cell_type": "code",
      "source": [
        "from sklearn.feature_extraction.text import TfidfVectorizer\n",
        "#ngram_range ad max_features for tf-idf are also important\n",
        "tv = TfidfVectorizer()\n",
        "y = tv.fit_transform(corpus).toarray()\n",
        "y[0]"
      ],
      "metadata": {
        "id": "WUa3ngssfAkv",
        "colab": {
          "base_uri": "https://localhost:8080/"
        },
        "outputId": "cbd14284-0018-40af-d390-188c7e11afe8"
      },
      "execution_count": null,
      "outputs": [
        {
          "output_type": "execute_result",
          "data": {
            "text/plain": [
              "array([0.20537856, 0.20537856, 0.        , 0.        , 0.20537856,\n",
              "       0.        , 0.        , 0.20537856, 0.41075711, 0.        ,\n",
              "       0.        , 0.        , 0.        , 0.        , 0.        ,\n",
              "       0.        , 0.28437225, 0.20537856, 0.        , 0.        ,\n",
              "       0.        , 0.        , 0.        , 0.        , 0.        ,\n",
              "       0.        , 0.        , 0.        , 0.        , 0.        ,\n",
              "       0.        , 0.        , 0.        , 0.20537856, 0.        ,\n",
              "       0.        , 0.        , 0.        , 0.14218613, 0.        ,\n",
              "       0.20537856, 0.        , 0.        , 0.12184271, 0.        ,\n",
              "       0.        , 0.        , 0.        , 0.        , 0.        ,\n",
              "       0.        , 0.        , 0.20537856, 0.20537856, 0.10522092,\n",
              "       0.        , 0.        , 0.        , 0.        , 0.        ,\n",
              "       0.20537856, 0.        , 0.        , 0.        , 0.        ,\n",
              "       0.20537856, 0.        , 0.        , 0.        , 0.20537856,\n",
              "       0.        , 0.        , 0.        , 0.        , 0.        ,\n",
              "       0.        , 0.20537856, 0.        , 0.16841335, 0.        ,\n",
              "       0.        , 0.        , 0.        , 0.        , 0.12184271,\n",
              "       0.        , 0.        , 0.        , 0.16841335, 0.        ,\n",
              "       0.        , 0.20537856, 0.20537856, 0.        ])"
            ]
          },
          "metadata": {},
          "execution_count": 45
        }
      ]
    },
    {
      "cell_type": "code",
      "source": [
        "#Again, use get_feature_names_out function does and make a dataframe\n",
        "y_df = pd.DataFrame(data=y,columns=tv.get_feature_names_out())\n",
        "y_df"
      ],
      "metadata": {
        "id": "wElZn-voLw5Z",
        "colab": {
          "base_uri": "https://localhost:8080/",
          "height": 287
        },
        "outputId": "82755017-5cb9-4d93-8df1-68232a67ec27"
      },
      "execution_count": null,
      "outputs": [
        {
          "output_type": "execute_result",
          "data": {
            "text/plain": [
              "    ability        ai      also   another  artificial  assistant     based  \\\n",
              "0  0.205379  0.205379  0.000000  0.000000    0.205379   0.000000  0.000000   \n",
              "1  0.000000  0.000000  0.000000  0.000000    0.000000   0.000000  0.257396   \n",
              "2  0.000000  0.000000  0.000000  0.000000    0.000000   0.000000  0.000000   \n",
              "3  0.000000  0.000000  0.000000  0.241304    0.000000   0.000000  0.000000   \n",
              "4  0.000000  0.000000  0.000000  0.000000    0.000000   0.235969  0.000000   \n",
              "5  0.000000  0.000000  0.223972  0.000000    0.000000   0.000000  0.000000   \n",
              "\n",
              "      being    branch  business  ...      text      time  together  translate  \\\n",
              "0  0.205379  0.410757  0.000000  ...  0.121843  0.000000   0.00000   0.000000   \n",
              "1  0.000000  0.000000  0.000000  ...  0.000000  0.000000   0.00000   0.000000   \n",
              "2  0.000000  0.000000  0.000000  ...  0.151412  0.000000   0.25522   0.000000   \n",
              "3  0.000000  0.000000  0.000000  ...  0.286312  0.241304   0.00000   0.241304   \n",
              "4  0.000000  0.000000  0.000000  ...  0.139991  0.000000   0.00000   0.000000   \n",
              "5  0.000000  0.000000  0.447943  ...  0.000000  0.000000   0.00000   0.000000   \n",
              "\n",
              "   understand     voice    volume       way      word   writer  \n",
              "0    0.168413  0.000000  0.000000  0.205379  0.205379  0.00000  \n",
              "1    0.000000  0.000000  0.000000  0.000000  0.000000  0.00000  \n",
              "2    0.209284  0.209284  0.000000  0.000000  0.000000  0.25522  \n",
              "3    0.000000  0.000000  0.241304  0.000000  0.000000  0.00000  \n",
              "4    0.000000  0.193498  0.000000  0.000000  0.000000  0.00000  \n",
              "5    0.000000  0.000000  0.000000  0.000000  0.000000  0.00000  \n",
              "\n",
              "[6 rows x 94 columns]"
            ],
            "text/html": [
              "\n",
              "  <div id=\"df-3239e792-ab53-4639-b1ad-318263a7e9f5\" class=\"colab-df-container\">\n",
              "    <div>\n",
              "<style scoped>\n",
              "    .dataframe tbody tr th:only-of-type {\n",
              "        vertical-align: middle;\n",
              "    }\n",
              "\n",
              "    .dataframe tbody tr th {\n",
              "        vertical-align: top;\n",
              "    }\n",
              "\n",
              "    .dataframe thead th {\n",
              "        text-align: right;\n",
              "    }\n",
              "</style>\n",
              "<table border=\"1\" class=\"dataframe\">\n",
              "  <thead>\n",
              "    <tr style=\"text-align: right;\">\n",
              "      <th></th>\n",
              "      <th>ability</th>\n",
              "      <th>ai</th>\n",
              "      <th>also</th>\n",
              "      <th>another</th>\n",
              "      <th>artificial</th>\n",
              "      <th>assistant</th>\n",
              "      <th>based</th>\n",
              "      <th>being</th>\n",
              "      <th>branch</th>\n",
              "      <th>business</th>\n",
              "      <th>...</th>\n",
              "      <th>text</th>\n",
              "      <th>time</th>\n",
              "      <th>together</th>\n",
              "      <th>translate</th>\n",
              "      <th>understand</th>\n",
              "      <th>voice</th>\n",
              "      <th>volume</th>\n",
              "      <th>way</th>\n",
              "      <th>word</th>\n",
              "      <th>writer</th>\n",
              "    </tr>\n",
              "  </thead>\n",
              "  <tbody>\n",
              "    <tr>\n",
              "      <th>0</th>\n",
              "      <td>0.205379</td>\n",
              "      <td>0.205379</td>\n",
              "      <td>0.000000</td>\n",
              "      <td>0.000000</td>\n",
              "      <td>0.205379</td>\n",
              "      <td>0.000000</td>\n",
              "      <td>0.000000</td>\n",
              "      <td>0.205379</td>\n",
              "      <td>0.410757</td>\n",
              "      <td>0.000000</td>\n",
              "      <td>...</td>\n",
              "      <td>0.121843</td>\n",
              "      <td>0.000000</td>\n",
              "      <td>0.00000</td>\n",
              "      <td>0.000000</td>\n",
              "      <td>0.168413</td>\n",
              "      <td>0.000000</td>\n",
              "      <td>0.000000</td>\n",
              "      <td>0.205379</td>\n",
              "      <td>0.205379</td>\n",
              "      <td>0.00000</td>\n",
              "    </tr>\n",
              "    <tr>\n",
              "      <th>1</th>\n",
              "      <td>0.000000</td>\n",
              "      <td>0.000000</td>\n",
              "      <td>0.000000</td>\n",
              "      <td>0.000000</td>\n",
              "      <td>0.000000</td>\n",
              "      <td>0.000000</td>\n",
              "      <td>0.257396</td>\n",
              "      <td>0.000000</td>\n",
              "      <td>0.000000</td>\n",
              "      <td>0.000000</td>\n",
              "      <td>...</td>\n",
              "      <td>0.000000</td>\n",
              "      <td>0.000000</td>\n",
              "      <td>0.00000</td>\n",
              "      <td>0.000000</td>\n",
              "      <td>0.000000</td>\n",
              "      <td>0.000000</td>\n",
              "      <td>0.000000</td>\n",
              "      <td>0.000000</td>\n",
              "      <td>0.000000</td>\n",
              "      <td>0.00000</td>\n",
              "    </tr>\n",
              "    <tr>\n",
              "      <th>2</th>\n",
              "      <td>0.000000</td>\n",
              "      <td>0.000000</td>\n",
              "      <td>0.000000</td>\n",
              "      <td>0.000000</td>\n",
              "      <td>0.000000</td>\n",
              "      <td>0.000000</td>\n",
              "      <td>0.000000</td>\n",
              "      <td>0.000000</td>\n",
              "      <td>0.000000</td>\n",
              "      <td>0.000000</td>\n",
              "      <td>...</td>\n",
              "      <td>0.151412</td>\n",
              "      <td>0.000000</td>\n",
              "      <td>0.25522</td>\n",
              "      <td>0.000000</td>\n",
              "      <td>0.209284</td>\n",
              "      <td>0.209284</td>\n",
              "      <td>0.000000</td>\n",
              "      <td>0.000000</td>\n",
              "      <td>0.000000</td>\n",
              "      <td>0.25522</td>\n",
              "    </tr>\n",
              "    <tr>\n",
              "      <th>3</th>\n",
              "      <td>0.000000</td>\n",
              "      <td>0.000000</td>\n",
              "      <td>0.000000</td>\n",
              "      <td>0.241304</td>\n",
              "      <td>0.000000</td>\n",
              "      <td>0.000000</td>\n",
              "      <td>0.000000</td>\n",
              "      <td>0.000000</td>\n",
              "      <td>0.000000</td>\n",
              "      <td>0.000000</td>\n",
              "      <td>...</td>\n",
              "      <td>0.286312</td>\n",
              "      <td>0.241304</td>\n",
              "      <td>0.00000</td>\n",
              "      <td>0.241304</td>\n",
              "      <td>0.000000</td>\n",
              "      <td>0.000000</td>\n",
              "      <td>0.241304</td>\n",
              "      <td>0.000000</td>\n",
              "      <td>0.000000</td>\n",
              "      <td>0.00000</td>\n",
              "    </tr>\n",
              "    <tr>\n",
              "      <th>4</th>\n",
              "      <td>0.000000</td>\n",
              "      <td>0.000000</td>\n",
              "      <td>0.000000</td>\n",
              "      <td>0.000000</td>\n",
              "      <td>0.000000</td>\n",
              "      <td>0.235969</td>\n",
              "      <td>0.000000</td>\n",
              "      <td>0.000000</td>\n",
              "      <td>0.000000</td>\n",
              "      <td>0.000000</td>\n",
              "      <td>...</td>\n",
              "      <td>0.139991</td>\n",
              "      <td>0.000000</td>\n",
              "      <td>0.00000</td>\n",
              "      <td>0.000000</td>\n",
              "      <td>0.000000</td>\n",
              "      <td>0.193498</td>\n",
              "      <td>0.000000</td>\n",
              "      <td>0.000000</td>\n",
              "      <td>0.000000</td>\n",
              "      <td>0.00000</td>\n",
              "    </tr>\n",
              "    <tr>\n",
              "      <th>5</th>\n",
              "      <td>0.000000</td>\n",
              "      <td>0.000000</td>\n",
              "      <td>0.223972</td>\n",
              "      <td>0.000000</td>\n",
              "      <td>0.000000</td>\n",
              "      <td>0.000000</td>\n",
              "      <td>0.000000</td>\n",
              "      <td>0.000000</td>\n",
              "      <td>0.000000</td>\n",
              "      <td>0.447943</td>\n",
              "      <td>...</td>\n",
              "      <td>0.000000</td>\n",
              "      <td>0.000000</td>\n",
              "      <td>0.00000</td>\n",
              "      <td>0.000000</td>\n",
              "      <td>0.000000</td>\n",
              "      <td>0.000000</td>\n",
              "      <td>0.000000</td>\n",
              "      <td>0.000000</td>\n",
              "      <td>0.000000</td>\n",
              "      <td>0.00000</td>\n",
              "    </tr>\n",
              "  </tbody>\n",
              "</table>\n",
              "<p>6 rows × 94 columns</p>\n",
              "</div>\n",
              "    <div class=\"colab-df-buttons\">\n",
              "\n",
              "  <div class=\"colab-df-container\">\n",
              "    <button class=\"colab-df-convert\" onclick=\"convertToInteractive('df-3239e792-ab53-4639-b1ad-318263a7e9f5')\"\n",
              "            title=\"Convert this dataframe to an interactive table.\"\n",
              "            style=\"display:none;\">\n",
              "\n",
              "  <svg xmlns=\"http://www.w3.org/2000/svg\" height=\"24px\" viewBox=\"0 -960 960 960\">\n",
              "    <path d=\"M120-120v-720h720v720H120Zm60-500h600v-160H180v160Zm220 220h160v-160H400v160Zm0 220h160v-160H400v160ZM180-400h160v-160H180v160Zm440 0h160v-160H620v160ZM180-180h160v-160H180v160Zm440 0h160v-160H620v160Z\"/>\n",
              "  </svg>\n",
              "    </button>\n",
              "\n",
              "  <style>\n",
              "    .colab-df-container {\n",
              "      display:flex;\n",
              "      gap: 12px;\n",
              "    }\n",
              "\n",
              "    .colab-df-convert {\n",
              "      background-color: #E8F0FE;\n",
              "      border: none;\n",
              "      border-radius: 50%;\n",
              "      cursor: pointer;\n",
              "      display: none;\n",
              "      fill: #1967D2;\n",
              "      height: 32px;\n",
              "      padding: 0 0 0 0;\n",
              "      width: 32px;\n",
              "    }\n",
              "\n",
              "    .colab-df-convert:hover {\n",
              "      background-color: #E2EBFA;\n",
              "      box-shadow: 0px 1px 2px rgba(60, 64, 67, 0.3), 0px 1px 3px 1px rgba(60, 64, 67, 0.15);\n",
              "      fill: #174EA6;\n",
              "    }\n",
              "\n",
              "    .colab-df-buttons div {\n",
              "      margin-bottom: 4px;\n",
              "    }\n",
              "\n",
              "    [theme=dark] .colab-df-convert {\n",
              "      background-color: #3B4455;\n",
              "      fill: #D2E3FC;\n",
              "    }\n",
              "\n",
              "    [theme=dark] .colab-df-convert:hover {\n",
              "      background-color: #434B5C;\n",
              "      box-shadow: 0px 1px 3px 1px rgba(0, 0, 0, 0.15);\n",
              "      filter: drop-shadow(0px 1px 2px rgba(0, 0, 0, 0.3));\n",
              "      fill: #FFFFFF;\n",
              "    }\n",
              "  </style>\n",
              "\n",
              "    <script>\n",
              "      const buttonEl =\n",
              "        document.querySelector('#df-3239e792-ab53-4639-b1ad-318263a7e9f5 button.colab-df-convert');\n",
              "      buttonEl.style.display =\n",
              "        google.colab.kernel.accessAllowed ? 'block' : 'none';\n",
              "\n",
              "      async function convertToInteractive(key) {\n",
              "        const element = document.querySelector('#df-3239e792-ab53-4639-b1ad-318263a7e9f5');\n",
              "        const dataTable =\n",
              "          await google.colab.kernel.invokeFunction('convertToInteractive',\n",
              "                                                    [key], {});\n",
              "        if (!dataTable) return;\n",
              "\n",
              "        const docLinkHtml = 'Like what you see? Visit the ' +\n",
              "          '<a target=\"_blank\" href=https://colab.research.google.com/notebooks/data_table.ipynb>data table notebook</a>'\n",
              "          + ' to learn more about interactive tables.';\n",
              "        element.innerHTML = '';\n",
              "        dataTable['output_type'] = 'display_data';\n",
              "        await google.colab.output.renderOutput(dataTable, element);\n",
              "        const docLink = document.createElement('div');\n",
              "        docLink.innerHTML = docLinkHtml;\n",
              "        element.appendChild(docLink);\n",
              "      }\n",
              "    </script>\n",
              "  </div>\n",
              "\n",
              "\n",
              "<div id=\"df-0e0a6460-999c-44b9-b367-7df84de9f674\">\n",
              "  <button class=\"colab-df-quickchart\" onclick=\"quickchart('df-0e0a6460-999c-44b9-b367-7df84de9f674')\"\n",
              "            title=\"Suggest charts\"\n",
              "            style=\"display:none;\">\n",
              "\n",
              "<svg xmlns=\"http://www.w3.org/2000/svg\" height=\"24px\"viewBox=\"0 0 24 24\"\n",
              "     width=\"24px\">\n",
              "    <g>\n",
              "        <path d=\"M19 3H5c-1.1 0-2 .9-2 2v14c0 1.1.9 2 2 2h14c1.1 0 2-.9 2-2V5c0-1.1-.9-2-2-2zM9 17H7v-7h2v7zm4 0h-2V7h2v10zm4 0h-2v-4h2v4z\"/>\n",
              "    </g>\n",
              "</svg>\n",
              "  </button>\n",
              "\n",
              "<style>\n",
              "  .colab-df-quickchart {\n",
              "      --bg-color: #E8F0FE;\n",
              "      --fill-color: #1967D2;\n",
              "      --hover-bg-color: #E2EBFA;\n",
              "      --hover-fill-color: #174EA6;\n",
              "      --disabled-fill-color: #AAA;\n",
              "      --disabled-bg-color: #DDD;\n",
              "  }\n",
              "\n",
              "  [theme=dark] .colab-df-quickchart {\n",
              "      --bg-color: #3B4455;\n",
              "      --fill-color: #D2E3FC;\n",
              "      --hover-bg-color: #434B5C;\n",
              "      --hover-fill-color: #FFFFFF;\n",
              "      --disabled-bg-color: #3B4455;\n",
              "      --disabled-fill-color: #666;\n",
              "  }\n",
              "\n",
              "  .colab-df-quickchart {\n",
              "    background-color: var(--bg-color);\n",
              "    border: none;\n",
              "    border-radius: 50%;\n",
              "    cursor: pointer;\n",
              "    display: none;\n",
              "    fill: var(--fill-color);\n",
              "    height: 32px;\n",
              "    padding: 0;\n",
              "    width: 32px;\n",
              "  }\n",
              "\n",
              "  .colab-df-quickchart:hover {\n",
              "    background-color: var(--hover-bg-color);\n",
              "    box-shadow: 0 1px 2px rgba(60, 64, 67, 0.3), 0 1px 3px 1px rgba(60, 64, 67, 0.15);\n",
              "    fill: var(--button-hover-fill-color);\n",
              "  }\n",
              "\n",
              "  .colab-df-quickchart-complete:disabled,\n",
              "  .colab-df-quickchart-complete:disabled:hover {\n",
              "    background-color: var(--disabled-bg-color);\n",
              "    fill: var(--disabled-fill-color);\n",
              "    box-shadow: none;\n",
              "  }\n",
              "\n",
              "  .colab-df-spinner {\n",
              "    border: 2px solid var(--fill-color);\n",
              "    border-color: transparent;\n",
              "    border-bottom-color: var(--fill-color);\n",
              "    animation:\n",
              "      spin 1s steps(1) infinite;\n",
              "  }\n",
              "\n",
              "  @keyframes spin {\n",
              "    0% {\n",
              "      border-color: transparent;\n",
              "      border-bottom-color: var(--fill-color);\n",
              "      border-left-color: var(--fill-color);\n",
              "    }\n",
              "    20% {\n",
              "      border-color: transparent;\n",
              "      border-left-color: var(--fill-color);\n",
              "      border-top-color: var(--fill-color);\n",
              "    }\n",
              "    30% {\n",
              "      border-color: transparent;\n",
              "      border-left-color: var(--fill-color);\n",
              "      border-top-color: var(--fill-color);\n",
              "      border-right-color: var(--fill-color);\n",
              "    }\n",
              "    40% {\n",
              "      border-color: transparent;\n",
              "      border-right-color: var(--fill-color);\n",
              "      border-top-color: var(--fill-color);\n",
              "    }\n",
              "    60% {\n",
              "      border-color: transparent;\n",
              "      border-right-color: var(--fill-color);\n",
              "    }\n",
              "    80% {\n",
              "      border-color: transparent;\n",
              "      border-right-color: var(--fill-color);\n",
              "      border-bottom-color: var(--fill-color);\n",
              "    }\n",
              "    90% {\n",
              "      border-color: transparent;\n",
              "      border-bottom-color: var(--fill-color);\n",
              "    }\n",
              "  }\n",
              "</style>\n",
              "\n",
              "  <script>\n",
              "    async function quickchart(key) {\n",
              "      const quickchartButtonEl =\n",
              "        document.querySelector('#' + key + ' button');\n",
              "      quickchartButtonEl.disabled = true;  // To prevent multiple clicks.\n",
              "      quickchartButtonEl.classList.add('colab-df-spinner');\n",
              "      try {\n",
              "        const charts = await google.colab.kernel.invokeFunction(\n",
              "            'suggestCharts', [key], {});\n",
              "      } catch (error) {\n",
              "        console.error('Error during call to suggestCharts:', error);\n",
              "      }\n",
              "      quickchartButtonEl.classList.remove('colab-df-spinner');\n",
              "      quickchartButtonEl.classList.add('colab-df-quickchart-complete');\n",
              "    }\n",
              "    (() => {\n",
              "      let quickchartButtonEl =\n",
              "        document.querySelector('#df-0e0a6460-999c-44b9-b367-7df84de9f674 button');\n",
              "      quickchartButtonEl.style.display =\n",
              "        google.colab.kernel.accessAllowed ? 'block' : 'none';\n",
              "    })();\n",
              "  </script>\n",
              "</div>\n",
              "\n",
              "  <div id=\"id_8755651b-4f45-4f07-a82c-c325ab74f2f3\">\n",
              "    <style>\n",
              "      .colab-df-generate {\n",
              "        background-color: #E8F0FE;\n",
              "        border: none;\n",
              "        border-radius: 50%;\n",
              "        cursor: pointer;\n",
              "        display: none;\n",
              "        fill: #1967D2;\n",
              "        height: 32px;\n",
              "        padding: 0 0 0 0;\n",
              "        width: 32px;\n",
              "      }\n",
              "\n",
              "      .colab-df-generate:hover {\n",
              "        background-color: #E2EBFA;\n",
              "        box-shadow: 0px 1px 2px rgba(60, 64, 67, 0.3), 0px 1px 3px 1px rgba(60, 64, 67, 0.15);\n",
              "        fill: #174EA6;\n",
              "      }\n",
              "\n",
              "      [theme=dark] .colab-df-generate {\n",
              "        background-color: #3B4455;\n",
              "        fill: #D2E3FC;\n",
              "      }\n",
              "\n",
              "      [theme=dark] .colab-df-generate:hover {\n",
              "        background-color: #434B5C;\n",
              "        box-shadow: 0px 1px 3px 1px rgba(0, 0, 0, 0.15);\n",
              "        filter: drop-shadow(0px 1px 2px rgba(0, 0, 0, 0.3));\n",
              "        fill: #FFFFFF;\n",
              "      }\n",
              "    </style>\n",
              "    <button class=\"colab-df-generate\" onclick=\"generateWithVariable('y_df')\"\n",
              "            title=\"Generate code using this dataframe.\"\n",
              "            style=\"display:none;\">\n",
              "\n",
              "  <svg xmlns=\"http://www.w3.org/2000/svg\" height=\"24px\"viewBox=\"0 0 24 24\"\n",
              "       width=\"24px\">\n",
              "    <path d=\"M7,19H8.4L18.45,9,17,7.55,7,17.6ZM5,21V16.75L18.45,3.32a2,2,0,0,1,2.83,0l1.4,1.43a1.91,1.91,0,0,1,.58,1.4,1.91,1.91,0,0,1-.58,1.4L9.25,21ZM18.45,9,17,7.55Zm-12,3A5.31,5.31,0,0,0,4.9,8.1,5.31,5.31,0,0,0,1,6.5,5.31,5.31,0,0,0,4.9,4.9,5.31,5.31,0,0,0,6.5,1,5.31,5.31,0,0,0,8.1,4.9,5.31,5.31,0,0,0,12,6.5,5.46,5.46,0,0,0,6.5,12Z\"/>\n",
              "  </svg>\n",
              "    </button>\n",
              "    <script>\n",
              "      (() => {\n",
              "      const buttonEl =\n",
              "        document.querySelector('#id_8755651b-4f45-4f07-a82c-c325ab74f2f3 button.colab-df-generate');\n",
              "      buttonEl.style.display =\n",
              "        google.colab.kernel.accessAllowed ? 'block' : 'none';\n",
              "\n",
              "      buttonEl.onclick = () => {\n",
              "        google.colab.notebook.generateWithVariable('y_df');\n",
              "      }\n",
              "      })();\n",
              "    </script>\n",
              "  </div>\n",
              "\n",
              "    </div>\n",
              "  </div>\n"
            ],
            "application/vnd.google.colaboratory.intrinsic+json": {
              "type": "dataframe",
              "variable_name": "y_df"
            }
          },
          "metadata": {},
          "execution_count": 46
        }
      ]
    },
    {
      "cell_type": "markdown",
      "source": [
        "We can see there are some differences between the vectorizer we created and the one we imported. Can you explain why these differences have arisen? How can we minimize this difference?"
      ],
      "metadata": {
        "id": "Z9l8OkTuPL42"
      }
    },
    {
      "cell_type": "markdown",
      "source": [
        "**How does the Tf-IDF Vectorizer work?** <br>\n",
        "Ans:"
      ],
      "metadata": {
        "id": "ULgGHHSk5ihy"
      }
    },
    {
      "cell_type": "markdown",
      "source": [
        "# The (Actual) Task Begins!"
      ],
      "metadata": {
        "id": "GmYYiQtV55zK"
      }
    },
    {
      "cell_type": "markdown",
      "source": [
        "Dataset link: https://www.kaggle.com/datasets/lakshmi25npathi/imdb-dataset-of-50k-movie-reviews"
      ],
      "metadata": {
        "id": "cIJAS0TDjhwb"
      }
    },
    {
      "cell_type": "code",
      "source": [
        "# Load the dataset and store it in a dataframe\n",
        "from google.colab import drive\n",
        "drive.mount('/content/drive')\n"
      ],
      "metadata": {
        "id": "hOBNeTeOohvp",
        "colab": {
          "base_uri": "https://localhost:8080/"
        },
        "outputId": "3f7a6768-8a43-4c04-8942-b2a8e637d4a9"
      },
      "execution_count": null,
      "outputs": [
        {
          "output_type": "stream",
          "name": "stdout",
          "text": [
            "Mounted at /content/drive\n"
          ]
        }
      ]
    },
    {
      "cell_type": "code",
      "source": [
        "import pandas as pd"
      ],
      "metadata": {
        "id": "4w30lfPmo9Ic"
      },
      "execution_count": null,
      "outputs": []
    },
    {
      "cell_type": "code",
      "source": [
        "df=pd.read_csv('/content/drive/MyDrive/Colab Notebooks/IMDB Dataset.csv')"
      ],
      "metadata": {
        "id": "uk2ChvFXo-2v"
      },
      "execution_count": null,
      "outputs": []
    },
    {
      "cell_type": "code",
      "source": [
        "df"
      ],
      "metadata": {
        "colab": {
          "base_uri": "https://localhost:8080/",
          "height": 423
        },
        "id": "fbOUoVjapM5q",
        "outputId": "c015e65e-10ca-4d62-d88f-8c9e6256e88b"
      },
      "execution_count": null,
      "outputs": [
        {
          "output_type": "execute_result",
          "data": {
            "text/plain": [
              "                                                  review sentiment\n",
              "0      One of the other reviewers has mentioned that ...  positive\n",
              "1      A wonderful little production. <br /><br />The...  positive\n",
              "2      I thought this was a wonderful way to spend ti...  positive\n",
              "3      Basically there's a family where a little boy ...  negative\n",
              "4      Petter Mattei's \"Love in the Time of Money\" is...  positive\n",
              "...                                                  ...       ...\n",
              "49995  I thought this movie did a down right good job...  positive\n",
              "49996  Bad plot, bad dialogue, bad acting, idiotic di...  negative\n",
              "49997  I am a Catholic taught in parochial elementary...  negative\n",
              "49998  I'm going to have to disagree with the previou...  negative\n",
              "49999  No one expects the Star Trek movies to be high...  negative\n",
              "\n",
              "[50000 rows x 2 columns]"
            ],
            "text/html": [
              "\n",
              "  <div id=\"df-c65536a0-1df3-42db-9230-1a7e03b10f8b\" class=\"colab-df-container\">\n",
              "    <div>\n",
              "<style scoped>\n",
              "    .dataframe tbody tr th:only-of-type {\n",
              "        vertical-align: middle;\n",
              "    }\n",
              "\n",
              "    .dataframe tbody tr th {\n",
              "        vertical-align: top;\n",
              "    }\n",
              "\n",
              "    .dataframe thead th {\n",
              "        text-align: right;\n",
              "    }\n",
              "</style>\n",
              "<table border=\"1\" class=\"dataframe\">\n",
              "  <thead>\n",
              "    <tr style=\"text-align: right;\">\n",
              "      <th></th>\n",
              "      <th>review</th>\n",
              "      <th>sentiment</th>\n",
              "    </tr>\n",
              "  </thead>\n",
              "  <tbody>\n",
              "    <tr>\n",
              "      <th>0</th>\n",
              "      <td>One of the other reviewers has mentioned that ...</td>\n",
              "      <td>positive</td>\n",
              "    </tr>\n",
              "    <tr>\n",
              "      <th>1</th>\n",
              "      <td>A wonderful little production. &lt;br /&gt;&lt;br /&gt;The...</td>\n",
              "      <td>positive</td>\n",
              "    </tr>\n",
              "    <tr>\n",
              "      <th>2</th>\n",
              "      <td>I thought this was a wonderful way to spend ti...</td>\n",
              "      <td>positive</td>\n",
              "    </tr>\n",
              "    <tr>\n",
              "      <th>3</th>\n",
              "      <td>Basically there's a family where a little boy ...</td>\n",
              "      <td>negative</td>\n",
              "    </tr>\n",
              "    <tr>\n",
              "      <th>4</th>\n",
              "      <td>Petter Mattei's \"Love in the Time of Money\" is...</td>\n",
              "      <td>positive</td>\n",
              "    </tr>\n",
              "    <tr>\n",
              "      <th>...</th>\n",
              "      <td>...</td>\n",
              "      <td>...</td>\n",
              "    </tr>\n",
              "    <tr>\n",
              "      <th>49995</th>\n",
              "      <td>I thought this movie did a down right good job...</td>\n",
              "      <td>positive</td>\n",
              "    </tr>\n",
              "    <tr>\n",
              "      <th>49996</th>\n",
              "      <td>Bad plot, bad dialogue, bad acting, idiotic di...</td>\n",
              "      <td>negative</td>\n",
              "    </tr>\n",
              "    <tr>\n",
              "      <th>49997</th>\n",
              "      <td>I am a Catholic taught in parochial elementary...</td>\n",
              "      <td>negative</td>\n",
              "    </tr>\n",
              "    <tr>\n",
              "      <th>49998</th>\n",
              "      <td>I'm going to have to disagree with the previou...</td>\n",
              "      <td>negative</td>\n",
              "    </tr>\n",
              "    <tr>\n",
              "      <th>49999</th>\n",
              "      <td>No one expects the Star Trek movies to be high...</td>\n",
              "      <td>negative</td>\n",
              "    </tr>\n",
              "  </tbody>\n",
              "</table>\n",
              "<p>50000 rows × 2 columns</p>\n",
              "</div>\n",
              "    <div class=\"colab-df-buttons\">\n",
              "\n",
              "  <div class=\"colab-df-container\">\n",
              "    <button class=\"colab-df-convert\" onclick=\"convertToInteractive('df-c65536a0-1df3-42db-9230-1a7e03b10f8b')\"\n",
              "            title=\"Convert this dataframe to an interactive table.\"\n",
              "            style=\"display:none;\">\n",
              "\n",
              "  <svg xmlns=\"http://www.w3.org/2000/svg\" height=\"24px\" viewBox=\"0 -960 960 960\">\n",
              "    <path d=\"M120-120v-720h720v720H120Zm60-500h600v-160H180v160Zm220 220h160v-160H400v160Zm0 220h160v-160H400v160ZM180-400h160v-160H180v160Zm440 0h160v-160H620v160ZM180-180h160v-160H180v160Zm440 0h160v-160H620v160Z\"/>\n",
              "  </svg>\n",
              "    </button>\n",
              "\n",
              "  <style>\n",
              "    .colab-df-container {\n",
              "      display:flex;\n",
              "      gap: 12px;\n",
              "    }\n",
              "\n",
              "    .colab-df-convert {\n",
              "      background-color: #E8F0FE;\n",
              "      border: none;\n",
              "      border-radius: 50%;\n",
              "      cursor: pointer;\n",
              "      display: none;\n",
              "      fill: #1967D2;\n",
              "      height: 32px;\n",
              "      padding: 0 0 0 0;\n",
              "      width: 32px;\n",
              "    }\n",
              "\n",
              "    .colab-df-convert:hover {\n",
              "      background-color: #E2EBFA;\n",
              "      box-shadow: 0px 1px 2px rgba(60, 64, 67, 0.3), 0px 1px 3px 1px rgba(60, 64, 67, 0.15);\n",
              "      fill: #174EA6;\n",
              "    }\n",
              "\n",
              "    .colab-df-buttons div {\n",
              "      margin-bottom: 4px;\n",
              "    }\n",
              "\n",
              "    [theme=dark] .colab-df-convert {\n",
              "      background-color: #3B4455;\n",
              "      fill: #D2E3FC;\n",
              "    }\n",
              "\n",
              "    [theme=dark] .colab-df-convert:hover {\n",
              "      background-color: #434B5C;\n",
              "      box-shadow: 0px 1px 3px 1px rgba(0, 0, 0, 0.15);\n",
              "      filter: drop-shadow(0px 1px 2px rgba(0, 0, 0, 0.3));\n",
              "      fill: #FFFFFF;\n",
              "    }\n",
              "  </style>\n",
              "\n",
              "    <script>\n",
              "      const buttonEl =\n",
              "        document.querySelector('#df-c65536a0-1df3-42db-9230-1a7e03b10f8b button.colab-df-convert');\n",
              "      buttonEl.style.display =\n",
              "        google.colab.kernel.accessAllowed ? 'block' : 'none';\n",
              "\n",
              "      async function convertToInteractive(key) {\n",
              "        const element = document.querySelector('#df-c65536a0-1df3-42db-9230-1a7e03b10f8b');\n",
              "        const dataTable =\n",
              "          await google.colab.kernel.invokeFunction('convertToInteractive',\n",
              "                                                    [key], {});\n",
              "        if (!dataTable) return;\n",
              "\n",
              "        const docLinkHtml = 'Like what you see? Visit the ' +\n",
              "          '<a target=\"_blank\" href=https://colab.research.google.com/notebooks/data_table.ipynb>data table notebook</a>'\n",
              "          + ' to learn more about interactive tables.';\n",
              "        element.innerHTML = '';\n",
              "        dataTable['output_type'] = 'display_data';\n",
              "        await google.colab.output.renderOutput(dataTable, element);\n",
              "        const docLink = document.createElement('div');\n",
              "        docLink.innerHTML = docLinkHtml;\n",
              "        element.appendChild(docLink);\n",
              "      }\n",
              "    </script>\n",
              "  </div>\n",
              "\n",
              "\n",
              "<div id=\"df-da6a7222-8886-4fa2-aec7-b3370a913477\">\n",
              "  <button class=\"colab-df-quickchart\" onclick=\"quickchart('df-da6a7222-8886-4fa2-aec7-b3370a913477')\"\n",
              "            title=\"Suggest charts\"\n",
              "            style=\"display:none;\">\n",
              "\n",
              "<svg xmlns=\"http://www.w3.org/2000/svg\" height=\"24px\"viewBox=\"0 0 24 24\"\n",
              "     width=\"24px\">\n",
              "    <g>\n",
              "        <path d=\"M19 3H5c-1.1 0-2 .9-2 2v14c0 1.1.9 2 2 2h14c1.1 0 2-.9 2-2V5c0-1.1-.9-2-2-2zM9 17H7v-7h2v7zm4 0h-2V7h2v10zm4 0h-2v-4h2v4z\"/>\n",
              "    </g>\n",
              "</svg>\n",
              "  </button>\n",
              "\n",
              "<style>\n",
              "  .colab-df-quickchart {\n",
              "      --bg-color: #E8F0FE;\n",
              "      --fill-color: #1967D2;\n",
              "      --hover-bg-color: #E2EBFA;\n",
              "      --hover-fill-color: #174EA6;\n",
              "      --disabled-fill-color: #AAA;\n",
              "      --disabled-bg-color: #DDD;\n",
              "  }\n",
              "\n",
              "  [theme=dark] .colab-df-quickchart {\n",
              "      --bg-color: #3B4455;\n",
              "      --fill-color: #D2E3FC;\n",
              "      --hover-bg-color: #434B5C;\n",
              "      --hover-fill-color: #FFFFFF;\n",
              "      --disabled-bg-color: #3B4455;\n",
              "      --disabled-fill-color: #666;\n",
              "  }\n",
              "\n",
              "  .colab-df-quickchart {\n",
              "    background-color: var(--bg-color);\n",
              "    border: none;\n",
              "    border-radius: 50%;\n",
              "    cursor: pointer;\n",
              "    display: none;\n",
              "    fill: var(--fill-color);\n",
              "    height: 32px;\n",
              "    padding: 0;\n",
              "    width: 32px;\n",
              "  }\n",
              "\n",
              "  .colab-df-quickchart:hover {\n",
              "    background-color: var(--hover-bg-color);\n",
              "    box-shadow: 0 1px 2px rgba(60, 64, 67, 0.3), 0 1px 3px 1px rgba(60, 64, 67, 0.15);\n",
              "    fill: var(--button-hover-fill-color);\n",
              "  }\n",
              "\n",
              "  .colab-df-quickchart-complete:disabled,\n",
              "  .colab-df-quickchart-complete:disabled:hover {\n",
              "    background-color: var(--disabled-bg-color);\n",
              "    fill: var(--disabled-fill-color);\n",
              "    box-shadow: none;\n",
              "  }\n",
              "\n",
              "  .colab-df-spinner {\n",
              "    border: 2px solid var(--fill-color);\n",
              "    border-color: transparent;\n",
              "    border-bottom-color: var(--fill-color);\n",
              "    animation:\n",
              "      spin 1s steps(1) infinite;\n",
              "  }\n",
              "\n",
              "  @keyframes spin {\n",
              "    0% {\n",
              "      border-color: transparent;\n",
              "      border-bottom-color: var(--fill-color);\n",
              "      border-left-color: var(--fill-color);\n",
              "    }\n",
              "    20% {\n",
              "      border-color: transparent;\n",
              "      border-left-color: var(--fill-color);\n",
              "      border-top-color: var(--fill-color);\n",
              "    }\n",
              "    30% {\n",
              "      border-color: transparent;\n",
              "      border-left-color: var(--fill-color);\n",
              "      border-top-color: var(--fill-color);\n",
              "      border-right-color: var(--fill-color);\n",
              "    }\n",
              "    40% {\n",
              "      border-color: transparent;\n",
              "      border-right-color: var(--fill-color);\n",
              "      border-top-color: var(--fill-color);\n",
              "    }\n",
              "    60% {\n",
              "      border-color: transparent;\n",
              "      border-right-color: var(--fill-color);\n",
              "    }\n",
              "    80% {\n",
              "      border-color: transparent;\n",
              "      border-right-color: var(--fill-color);\n",
              "      border-bottom-color: var(--fill-color);\n",
              "    }\n",
              "    90% {\n",
              "      border-color: transparent;\n",
              "      border-bottom-color: var(--fill-color);\n",
              "    }\n",
              "  }\n",
              "</style>\n",
              "\n",
              "  <script>\n",
              "    async function quickchart(key) {\n",
              "      const quickchartButtonEl =\n",
              "        document.querySelector('#' + key + ' button');\n",
              "      quickchartButtonEl.disabled = true;  // To prevent multiple clicks.\n",
              "      quickchartButtonEl.classList.add('colab-df-spinner');\n",
              "      try {\n",
              "        const charts = await google.colab.kernel.invokeFunction(\n",
              "            'suggestCharts', [key], {});\n",
              "      } catch (error) {\n",
              "        console.error('Error during call to suggestCharts:', error);\n",
              "      }\n",
              "      quickchartButtonEl.classList.remove('colab-df-spinner');\n",
              "      quickchartButtonEl.classList.add('colab-df-quickchart-complete');\n",
              "    }\n",
              "    (() => {\n",
              "      let quickchartButtonEl =\n",
              "        document.querySelector('#df-da6a7222-8886-4fa2-aec7-b3370a913477 button');\n",
              "      quickchartButtonEl.style.display =\n",
              "        google.colab.kernel.accessAllowed ? 'block' : 'none';\n",
              "    })();\n",
              "  </script>\n",
              "</div>\n",
              "\n",
              "  <div id=\"id_3271c8ab-9f0a-4225-a060-b4c6b35baa3c\">\n",
              "    <style>\n",
              "      .colab-df-generate {\n",
              "        background-color: #E8F0FE;\n",
              "        border: none;\n",
              "        border-radius: 50%;\n",
              "        cursor: pointer;\n",
              "        display: none;\n",
              "        fill: #1967D2;\n",
              "        height: 32px;\n",
              "        padding: 0 0 0 0;\n",
              "        width: 32px;\n",
              "      }\n",
              "\n",
              "      .colab-df-generate:hover {\n",
              "        background-color: #E2EBFA;\n",
              "        box-shadow: 0px 1px 2px rgba(60, 64, 67, 0.3), 0px 1px 3px 1px rgba(60, 64, 67, 0.15);\n",
              "        fill: #174EA6;\n",
              "      }\n",
              "\n",
              "      [theme=dark] .colab-df-generate {\n",
              "        background-color: #3B4455;\n",
              "        fill: #D2E3FC;\n",
              "      }\n",
              "\n",
              "      [theme=dark] .colab-df-generate:hover {\n",
              "        background-color: #434B5C;\n",
              "        box-shadow: 0px 1px 3px 1px rgba(0, 0, 0, 0.15);\n",
              "        filter: drop-shadow(0px 1px 2px rgba(0, 0, 0, 0.3));\n",
              "        fill: #FFFFFF;\n",
              "      }\n",
              "    </style>\n",
              "    <button class=\"colab-df-generate\" onclick=\"generateWithVariable('df')\"\n",
              "            title=\"Generate code using this dataframe.\"\n",
              "            style=\"display:none;\">\n",
              "\n",
              "  <svg xmlns=\"http://www.w3.org/2000/svg\" height=\"24px\"viewBox=\"0 0 24 24\"\n",
              "       width=\"24px\">\n",
              "    <path d=\"M7,19H8.4L18.45,9,17,7.55,7,17.6ZM5,21V16.75L18.45,3.32a2,2,0,0,1,2.83,0l1.4,1.43a1.91,1.91,0,0,1,.58,1.4,1.91,1.91,0,0,1-.58,1.4L9.25,21ZM18.45,9,17,7.55Zm-12,3A5.31,5.31,0,0,0,4.9,8.1,5.31,5.31,0,0,0,1,6.5,5.31,5.31,0,0,0,4.9,4.9,5.31,5.31,0,0,0,6.5,1,5.31,5.31,0,0,0,8.1,4.9,5.31,5.31,0,0,0,12,6.5,5.46,5.46,0,0,0,6.5,12Z\"/>\n",
              "  </svg>\n",
              "    </button>\n",
              "    <script>\n",
              "      (() => {\n",
              "      const buttonEl =\n",
              "        document.querySelector('#id_3271c8ab-9f0a-4225-a060-b4c6b35baa3c button.colab-df-generate');\n",
              "      buttonEl.style.display =\n",
              "        google.colab.kernel.accessAllowed ? 'block' : 'none';\n",
              "\n",
              "      buttonEl.onclick = () => {\n",
              "        google.colab.notebook.generateWithVariable('df');\n",
              "      }\n",
              "      })();\n",
              "    </script>\n",
              "  </div>\n",
              "\n",
              "    </div>\n",
              "  </div>\n"
            ],
            "application/vnd.google.colaboratory.intrinsic+json": {
              "type": "dataframe",
              "variable_name": "df",
              "summary": "{\n  \"name\": \"df\",\n  \"rows\": 50000,\n  \"fields\": [\n    {\n      \"column\": \"review\",\n      \"properties\": {\n        \"dtype\": \"string\",\n        \"num_unique_values\": 49582,\n        \"samples\": [\n          \"\\\"Soul Plane\\\" is a horrible attempt at comedy that only should appeal people with thick skulls, bloodshot eyes and furry pawns. <br /><br />The plot is not only incoherent but also non-existent, acting is mostly sub sub-par with a gang of highly moronic and dreadful characters thrown in for bad measure, jokes are often spotted miles ahead and almost never even a bit amusing. This movie lacks any structure and is full of racial stereotypes that must have seemed old even in the fifties, the only thing it really has going for it is some pretty ladies, but really, if you want that you can rent something from the \\\"Adult\\\" section. OK?<br /><br />I can hardly see anything here to recommend since you'll probably have a lot a better and productive time chasing rats with a sledgehammer or inventing waterproof teabags or whatever.<br /><br />2/10\",\n          \"Guest from the Future tells a fascinating story of time travel, friendship, battle of good and evil -- all with a small budget, child actors, and few special effects. Something for Spielberg and Lucas to learn from. ;) A sixth-grader Kolya \\\"Nick\\\" Gerasimov finds a time machine in the basement of a decrepit building and travels 100 years into the future. He discovers a near-perfect, utopian society where robots play guitars and write poetry, everyone is kind to each other and people enjoy everything technology has to offer. Alice is the daughter of a prominent scientist who invented a device called Mielophone that allows to read minds of humans and animals. The device can be put to both good and bad use, depending on whose hands it falls into. When two evil space pirates from Saturn who want to rule the universe attempt to steal Mielophone, it falls into the hands of 20th century school boy Nick. With the pirates hot on his tracks, he travels back to his time, followed by the pirates, and Alice. Chaos, confusion and funny situations follow as the luckless pirates try to blend in with the earthlings. Alice enrolls in the same school Nick goes to and demonstrates superhuman abilities in PE class. The catch is, Alice doesn't know what Nick looks like, while the pirates do. Also, the pirates are able to change their appearance and turn literally into anyone. (Hmm, I wonder if this is where James Cameron got the idea for Terminator...) Who gets to Nick -- and Mielophone -- first? Excellent plot, non-stop adventures, and great soundtrack. I wish Hollywood made kid movies like this one...\",\n          \"\\\"National Treasure\\\" (2004) is a thoroughly misguided hodge-podge of plot entanglements that borrow from nearly every cloak and dagger government conspiracy clich\\u00e9 that has ever been written. The film stars Nicholas Cage as Benjamin Franklin Gates (how precious is that, I ask you?); a seemingly normal fellow who, for no other reason than being of a lineage of like-minded misguided fortune hunters, decides to steal a 'national treasure' that has been hidden by the United States founding fathers. After a bit of subtext and background that plays laughably (unintentionally) like Indiana Jones meets The Patriot, the film degenerates into one misguided whimsy after another \\u0096 attempting to create a 'Stanley Goodspeed' regurgitation of Nicholas Cage and launch the whole convoluted mess forward with a series of high octane, but disconnected misadventures.<br /><br />The relevancy and logic to having George Washington and his motley crew of patriots burying a king's ransom someplace on native soil, and then, going through the meticulous plan of leaving clues scattered throughout U.S. currency art work, is something that director Jon Turteltaub never quite gets around to explaining. Couldn't Washington found better usage for such wealth during the start up of the country? Hence, we are left with a mystery built on top of an enigma that is already on shaky ground by the time Ben appoints himself the new custodian of this untold wealth. Ben's intentions are noble \\u0096 if confusing. He's set on protecting the treasure. For who and when?\\u0085your guess is as good as mine.<br /><br />But there are a few problems with Ben's crusade. First up, his friend, Ian Holmes (Sean Bean) decides that he can't wait for Ben to make up his mind about stealing the Declaration of Independence from the National Archives (oh, yeah \\u0096 brilliant idea!). Presumably, the back of that famous document holds the secret answer to the ultimate fortune. So Ian tries to kill Ben. The assassination attempt is, of course, unsuccessful, if overly melodramatic. It also affords Ben the opportunity to pick up, and pick on, the very sultry curator of the archives, Abigail Chase (Diane Kruger). She thinks Ben is clearly a nut \\u0096 at least at the beginning. But true to action/romance form, Abby's resolve melts quicker than you can say, \\\"is that the Hope Diamond?\\\" The film moves into full X-File-ish mode, as the FBI, mistakenly believing that Ben is behind the theft, retaliate in various benign ways that lead to a multi-layering of action sequences reminiscent of Mission Impossible meets The Fugitive. Honestly, don't those guys ever get 'intelligence' information that is correct? In the final analysis, \\\"National Treasure\\\" isn't great film making, so much as it's a patchwork rehash of tired old bits from other movies, woven together from scraps, the likes of which would make IL' Betsy Ross blush.<br /><br />The Buena Vista DVD delivers a far more generous treatment than this film is deserving of. The anamorphic widescreen picture exhibits a very smooth and finely detailed image with very rich colors, natural flesh tones, solid blacks and clean whites. The stylized image is also free of blemishes and digital enhancements. The audio is 5.1 and delivers a nice sonic boom to your side and rear speakers with intensity and realism. Extras include a host of promotional junket material that is rather deep and over the top in its explanation of how and why this film was made. If only, as an audience, we had had more clarification as to why Ben and co. were chasing after an illusive treasure, this might have been one good flick. Extras conclude with the theatrical trailer, audio commentary and deleted scenes. Not for the faint-hearted \\u0096 just the thick-headed.\"\n        ],\n        \"semantic_type\": \"\",\n        \"description\": \"\"\n      }\n    },\n    {\n      \"column\": \"sentiment\",\n      \"properties\": {\n        \"dtype\": \"category\",\n        \"num_unique_values\": 2,\n        \"samples\": [\n          \"negative\",\n          \"positive\"\n        ],\n        \"semantic_type\": \"\",\n        \"description\": \"\"\n      }\n    }\n  ]\n}"
            }
          },
          "metadata": {},
          "execution_count": 6
        }
      ]
    },
    {
      "cell_type": "code",
      "source": [
        "# Write a function to create the corpus on the basis of the given dataset. Remember, the corpus should have the sentences separated from each other\n",
        "# Also, do not forget to perform the preprocessing steps as done earlier\n",
        "\n",
        "from tqdm import tqdm  # tqdm is used to display a progress bar for loops\n",
        "corpus_df=[]\n",
        "for i in tqdm(range(len(df))):\n",
        "    rev = re.sub('^a-zA-Z', ' ', df['review'][i])\n",
        "    rev = rev.lower().split()\n",
        "    rev = [lemmatizer.lemmatize(word) for word in rev if word not in set(stopwords.words('english'))]\n",
        "    rev = ' '.join(rev)\n",
        "    corpus_df.append(rev)"
      ],
      "metadata": {
        "id": "drA9uUoRosh8",
        "colab": {
          "base_uri": "https://localhost:8080/"
        },
        "outputId": "2f07ad8f-d636-4f8b-a59f-74d83152952c"
      },
      "execution_count": null,
      "outputs": [
        {
          "output_type": "stream",
          "name": "stderr",
          "text": [
            "100%|██████████| 50000/50000 [17:39<00:00, 47.17it/s]\n"
          ]
        }
      ]
    },
    {
      "cell_type": "markdown",
      "source": [
        "Use CBOW and TF_IDF to vectorize the dataset and test its classification report using the multinomial naive bayes model."
      ],
      "metadata": {
        "id": "DxoGQfHOYV4g"
      }
    },
    {
      "cell_type": "markdown",
      "source": [
        "##BOW\n",
        "**What is BOW?** <br>\n",
        "Ans:"
      ],
      "metadata": {
        "id": "7mIe3npm-7Eg"
      }
    },
    {
      "cell_type": "code",
      "source": [
        "# Import CountVectorizer and use the BOW on it\n",
        "from sklearn.feature_extraction.text import CountVectorizer\n",
        "cv =CountVectorizer(max_features=2500)\n",
        "X=cv.fit_transform(corpus_df).toarray()"
      ],
      "metadata": {
        "id": "DehcDVIELtcd"
      },
      "execution_count": null,
      "outputs": []
    },
    {
      "cell_type": "code",
      "source": [
        "y=pd.get_dummies(df['sentiment'])\n",
        "y=y.iloc[:,1].values"
      ],
      "metadata": {
        "id": "g83CLyB_uJ-d"
      },
      "execution_count": null,
      "outputs": []
    },
    {
      "cell_type": "code",
      "source": [
        "# Perform train test split\n",
        "from sklearn.model_selection import train_test_split\n",
        "X_train,X_test,y_train,y_test=train_test_split(X,y,test_size=0.20,random_state=0)"
      ],
      "metadata": {
        "id": "p9jyd0E8LtWK"
      },
      "execution_count": null,
      "outputs": []
    },
    {
      "cell_type": "code",
      "source": [
        "#Fit training data on Multinomial Naive Bayes\n",
        "from sklearn.naive_bayes import MultinomialNB\n",
        "spam_detect_model=MultinomialNB().fit(X_train,y_train)"
      ],
      "metadata": {
        "id": "Z7UEFBS5MM2J"
      },
      "execution_count": null,
      "outputs": []
    },
    {
      "cell_type": "code",
      "source": [
        "y_pred=spam_detect_model.predict(X_test)"
      ],
      "metadata": {
        "id": "JPmE0RZLucwD"
      },
      "execution_count": null,
      "outputs": []
    },
    {
      "cell_type": "code",
      "source": [
        "from sklearn.metrics import accuracy_score,classification_report"
      ],
      "metadata": {
        "id": "yONNZrbCuhww"
      },
      "execution_count": null,
      "outputs": []
    },
    {
      "cell_type": "code",
      "source": [
        "#Print the accuracy and create a classification report\n",
        "score=accuracy_score(y_test,y_pred)\n",
        "print(score)"
      ],
      "metadata": {
        "id": "nTp4mguCDHf4",
        "colab": {
          "base_uri": "https://localhost:8080/"
        },
        "outputId": "cf5b88c6-bd38-40b2-eaff-4c577738fbb0"
      },
      "execution_count": null,
      "outputs": [
        {
          "output_type": "stream",
          "name": "stdout",
          "text": [
            "0.8366\n"
          ]
        }
      ]
    },
    {
      "cell_type": "code",
      "source": [
        "print(classification_report(y_pred,y_test))"
      ],
      "metadata": {
        "colab": {
          "base_uri": "https://localhost:8080/"
        },
        "id": "kVaMA0oJurkm",
        "outputId": "b2dfa039-6e8b-4761-a75e-3ee7a7efc051"
      },
      "execution_count": null,
      "outputs": [
        {
          "output_type": "stream",
          "name": "stdout",
          "text": [
            "              precision    recall  f1-score   support\n",
            "\n",
            "       False       0.84      0.84      0.84      5011\n",
            "        True       0.84      0.83      0.84      4989\n",
            "\n",
            "    accuracy                           0.84     10000\n",
            "   macro avg       0.84      0.84      0.84     10000\n",
            "weighted avg       0.84      0.84      0.84     10000\n",
            "\n"
          ]
        }
      ]
    },
    {
      "cell_type": "markdown",
      "source": [
        "##TF-IDF"
      ],
      "metadata": {
        "id": "KhjFFf7tbM7z"
      }
    },
    {
      "cell_type": "code",
      "source": [
        "# Write the code for tfidVectorizer, very much similar to the one you wrote for CountVectorizer\n",
        "# Also, print the accuracy, and create a classification report\n",
        "\n",
        "from sklearn.feature_extraction.text import TfidfVectorizer\n",
        "tv = TfidfVectorizer()\n",
        "X=tv.fit_transform(corpus_df).toarray()"
      ],
      "metadata": {
        "id": "8B6N3Lv0DWA2"
      },
      "execution_count": null,
      "outputs": []
    },
    {
      "cell_type": "code",
      "source": [
        "from sklearn.model_selection import train_test_split\n",
        "X_train, X_test, y_train, y_test = train_test_split(X, y, test_size = 0.20, random_state = 0)"
      ],
      "metadata": {
        "id": "wzJ6OxHhwdvn"
      },
      "execution_count": null,
      "outputs": []
    },
    {
      "cell_type": "code",
      "source": [
        "#Fit training data on Multinomial Naive Bayes\n",
        "from sklearn.naive_bayes import MultinomialNB\n",
        "spam_detect_model=MultinomialNB().fit(X_train,y_train)"
      ],
      "metadata": {
        "id": "tN42itQVwjci"
      },
      "execution_count": null,
      "outputs": []
    },
    {
      "cell_type": "code",
      "source": [
        "y_pred=spam_detect_model.predict(X_test)"
      ],
      "metadata": {
        "id": "qAmq_Q1mwgmx"
      },
      "execution_count": null,
      "outputs": []
    },
    {
      "cell_type": "code",
      "source": [
        "score=accuracy_score(y_test,y_pred)\n",
        "print(score)"
      ],
      "metadata": {
        "colab": {
          "base_uri": "https://localhost:8080/"
        },
        "id": "2To50WTGwqUQ",
        "outputId": "3d9741bd-c52a-4029-b014-1a1cba804125"
      },
      "execution_count": null,
      "outputs": [
        {
          "output_type": "stream",
          "name": "stdout",
          "text": [
            "0.8653\n"
          ]
        }
      ]
    },
    {
      "cell_type": "code",
      "source": [
        "print(classification_report(y_pred,y_test))"
      ],
      "metadata": {
        "colab": {
          "base_uri": "https://localhost:8080/"
        },
        "id": "sUzdEHy6wrAt",
        "outputId": "04ab7da7-42c3-4573-b3a2-6a5156972167"
      },
      "execution_count": null,
      "outputs": [
        {
          "output_type": "stream",
          "name": "stdout",
          "text": [
            "              precision    recall  f1-score   support\n",
            "\n",
            "       False       0.88      0.86      0.87      5190\n",
            "        True       0.85      0.88      0.86      4810\n",
            "\n",
            "    accuracy                           0.87     10000\n",
            "   macro avg       0.87      0.87      0.87     10000\n",
            "weighted avg       0.87      0.87      0.87     10000\n",
            "\n"
          ]
        }
      ]
    },
    {
      "cell_type": "markdown",
      "source": [
        "##Word2Vec"
      ],
      "metadata": {
        "id": "wRFgsvOS1Ei0"
      }
    },
    {
      "cell_type": "markdown",
      "source": [
        "word2vec is a neural network based algorithm released in 2013 which captures the semantic meaning of words instead of being based solely on frequency based metrics. For example, saying 'I look good today' and 'I look fantanstic today' should be considered similar sentences, however models like TF-IDF and BOW cannot capture this similarity and consider them different.\n",
        "\n",
        "word2vec works by ensuring the data being passed is trained to recognize context using either CBOW or Skip-gram method (check references). It is thus preferred to have a large dataset for this task. Then, one can compare similarity between words present in the dataset in a lingustic manner.\n",
        "\n",
        "\n",
        "A famous example that word2vec is able to capture is the one below:\n",
        "![Analogical-reasoning-on-vectors-a-king-man-womanqueen-and-b.png](data:image/png;base64,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)"
      ],
      "metadata": {
        "id": "VHoYa_SKKAeC"
      }
    },
    {
      "cell_type": "markdown",
      "source": [
        "https://www.analyticsvidhya.com/blog/2021/07/word2vec-for-word-embeddings-a-beginners-guide/\n",
        "\n",
        "https://youtu.be/viZrOnJclY0?si=J-HwOd3_Ng2CfVgU\n",
        "\n",
        "https://www.tensorflow.org/text/tutorials/word2vec (Advanced level)"
      ],
      "metadata": {
        "id": "PxTTuuFXK5Xa"
      }
    },
    {
      "cell_type": "markdown",
      "source": [
        "Let's try and use Word2Vec for our reviews dataset."
      ],
      "metadata": {
        "id": "fbnMgFPPLTS0"
      }
    },
    {
      "cell_type": "markdown",
      "source": [
        "You can use CBOW or SkipGram (sg = 0/1) default is CBOW\n",
        "\n",
        "Word2Vec resources: https://builtin.com/machine-learning/nlp-word2vec-python"
      ],
      "metadata": {
        "id": "qR7M8BaGOpMK"
      }
    },
    {
      "cell_type": "code",
      "source": [
        "!pip install gensim cython"
      ],
      "metadata": {
        "colab": {
          "base_uri": "https://localhost:8080/"
        },
        "id": "1Ig77B2S3ywt",
        "outputId": "e09a462a-aa5d-4e22-a9bd-b7b5a0042c56"
      },
      "execution_count": null,
      "outputs": [
        {
          "output_type": "stream",
          "name": "stdout",
          "text": [
            "Requirement already satisfied: gensim in /usr/local/lib/python3.10/dist-packages (4.2.0)\n",
            "Collecting cython\n",
            "  Downloading Cython-3.0.11-cp310-cp310-manylinux_2_17_x86_64.manylinux2014_x86_64.whl.metadata (3.2 kB)\n",
            "Requirement already satisfied: numpy>=1.17.0 in /usr/local/lib/python3.10/dist-packages (from gensim) (1.26.4)\n",
            "Requirement already satisfied: scipy>=0.18.1 in /usr/local/lib/python3.10/dist-packages (from gensim) (1.13.1)\n",
            "Requirement already satisfied: smart-open>=1.8.1 in /usr/local/lib/python3.10/dist-packages (from gensim) (7.0.4)\n",
            "Requirement already satisfied: wrapt in /usr/local/lib/python3.10/dist-packages (from smart-open>=1.8.1->gensim) (1.14.1)\n",
            "Downloading Cython-3.0.11-cp310-cp310-manylinux_2_17_x86_64.manylinux2014_x86_64.whl (3.6 MB)\n",
            "\u001b[2K   \u001b[90m━━━━━━━━━━━━━━━━━━━━━━━━━━━━━━━━━━━━━━━━\u001b[0m \u001b[32m3.6/3.6 MB\u001b[0m \u001b[31m14.1 MB/s\u001b[0m eta \u001b[36m0:00:00\u001b[0m\n",
            "\u001b[?25hInstalling collected packages: cython\n",
            "Successfully installed cython-3.0.11\n"
          ]
        }
      ]
    },
    {
      "cell_type": "code",
      "source": [
        "!pip install --upgrade scipy==1.10.1"
      ],
      "metadata": {
        "colab": {
          "base_uri": "https://localhost:8080/"
        },
        "id": "NWksR7Gz4fPz",
        "outputId": "961fe859-aff7-4b1b-de48-e0d8d24f1c98"
      },
      "execution_count": null,
      "outputs": [
        {
          "output_type": "stream",
          "name": "stdout",
          "text": [
            "Collecting scipy==1.10.1\n",
            "  Downloading scipy-1.10.1-cp310-cp310-manylinux_2_17_x86_64.manylinux2014_x86_64.whl.metadata (58 kB)\n",
            "\u001b[2K     \u001b[90m━━━━━━━━━━━━━━━━━━━━━━━━━━━━━━━━━━━━━━━━\u001b[0m \u001b[32m58.9/58.9 kB\u001b[0m \u001b[31m791.2 kB/s\u001b[0m eta \u001b[36m0:00:00\u001b[0m\n",
            "\u001b[?25hRequirement already satisfied: numpy<1.27.0,>=1.19.5 in /usr/local/lib/python3.10/dist-packages (from scipy==1.10.1) (1.26.4)\n",
            "Downloading scipy-1.10.1-cp310-cp310-manylinux_2_17_x86_64.manylinux2014_x86_64.whl (34.4 MB)\n",
            "\u001b[2K   \u001b[90m━━━━━━━━━━━━━━━━━━━━━━━━━━━━━━━━━━━━━━━━\u001b[0m \u001b[32m34.4/34.4 MB\u001b[0m \u001b[31m6.3 MB/s\u001b[0m eta \u001b[36m0:00:00\u001b[0m\n",
            "\u001b[?25hInstalling collected packages: scipy\n",
            "  Attempting uninstall: scipy\n",
            "    Found existing installation: scipy 1.13.1\n",
            "    Uninstalling scipy-1.13.1:\n",
            "      Successfully uninstalled scipy-1.13.1\n",
            "Successfully installed scipy-1.10.1\n"
          ]
        }
      ]
    },
    {
      "cell_type": "code",
      "source": [
        "import numpy"
      ],
      "metadata": {
        "id": "PydkNXWs4oXr"
      },
      "execution_count": null,
      "outputs": []
    },
    {
      "cell_type": "code",
      "source": [
        "import gensim\n",
        "from gensim.models import word2vec\n",
        "from gensim.models.word2vec import Word2Vec"
      ],
      "metadata": {
        "id": "-SdQNZRB1eHQ",
        "colab": {
          "base_uri": "https://localhost:8080/",
          "height": 513
        },
        "outputId": "eaa68339-da41-4906-b3ed-a952786f472f"
      },
      "execution_count": null,
      "outputs": [
        {
          "output_type": "error",
          "ename": "ImportError",
          "evalue": "cannot import name 'triu' from 'scipy.linalg.special_matrices' (/usr/local/lib/python3.10/dist-packages/scipy/linalg/special_matrices.py)",
          "traceback": [
            "\u001b[0;31m---------------------------------------------------------------------------\u001b[0m",
            "\u001b[0;31mImportError\u001b[0m                               Traceback (most recent call last)",
            "\u001b[0;32m<ipython-input-51-604cb93c93c0>\u001b[0m in \u001b[0;36m<cell line: 1>\u001b[0;34m()\u001b[0m\n\u001b[0;32m----> 1\u001b[0;31m \u001b[0;32mimport\u001b[0m \u001b[0mgensim\u001b[0m\u001b[0;34m\u001b[0m\u001b[0;34m\u001b[0m\u001b[0m\n\u001b[0m\u001b[1;32m      2\u001b[0m \u001b[0;32mfrom\u001b[0m \u001b[0mgensim\u001b[0m\u001b[0;34m.\u001b[0m\u001b[0mmodels\u001b[0m \u001b[0;32mimport\u001b[0m \u001b[0mword2vec\u001b[0m\u001b[0;34m\u001b[0m\u001b[0;34m\u001b[0m\u001b[0m\n\u001b[1;32m      3\u001b[0m \u001b[0;32mfrom\u001b[0m \u001b[0mgensim\u001b[0m\u001b[0;34m.\u001b[0m\u001b[0mmodels\u001b[0m\u001b[0;34m.\u001b[0m\u001b[0mword2vec\u001b[0m \u001b[0;32mimport\u001b[0m \u001b[0mWord2Vec\u001b[0m\u001b[0;34m\u001b[0m\u001b[0;34m\u001b[0m\u001b[0m\n",
            "\u001b[0;32m/usr/local/lib/python3.10/dist-packages/gensim/__init__.py\u001b[0m in \u001b[0;36m<module>\u001b[0;34m\u001b[0m\n\u001b[1;32m      9\u001b[0m \u001b[0;32mimport\u001b[0m \u001b[0mlogging\u001b[0m\u001b[0;34m\u001b[0m\u001b[0;34m\u001b[0m\u001b[0m\n\u001b[1;32m     10\u001b[0m \u001b[0;34m\u001b[0m\u001b[0m\n\u001b[0;32m---> 11\u001b[0;31m \u001b[0;32mfrom\u001b[0m \u001b[0mgensim\u001b[0m \u001b[0;32mimport\u001b[0m \u001b[0mparsing\u001b[0m\u001b[0;34m,\u001b[0m \u001b[0mcorpora\u001b[0m\u001b[0;34m,\u001b[0m \u001b[0mmatutils\u001b[0m\u001b[0;34m,\u001b[0m \u001b[0minterfaces\u001b[0m\u001b[0;34m,\u001b[0m \u001b[0mmodels\u001b[0m\u001b[0;34m,\u001b[0m \u001b[0msimilarities\u001b[0m\u001b[0;34m,\u001b[0m \u001b[0mutils\u001b[0m  \u001b[0;31m# noqa:F401\u001b[0m\u001b[0;34m\u001b[0m\u001b[0;34m\u001b[0m\u001b[0m\n\u001b[0m\u001b[1;32m     12\u001b[0m \u001b[0;34m\u001b[0m\u001b[0m\n\u001b[1;32m     13\u001b[0m \u001b[0;34m\u001b[0m\u001b[0m\n",
            "\u001b[0;32m/usr/local/lib/python3.10/dist-packages/gensim/corpora/__init__.py\u001b[0m in \u001b[0;36m<module>\u001b[0;34m\u001b[0m\n\u001b[1;32m      4\u001b[0m \u001b[0;34m\u001b[0m\u001b[0m\n\u001b[1;32m      5\u001b[0m \u001b[0;31m# bring corpus classes directly into package namespace, to save some typing\u001b[0m\u001b[0;34m\u001b[0m\u001b[0;34m\u001b[0m\u001b[0m\n\u001b[0;32m----> 6\u001b[0;31m \u001b[0;32mfrom\u001b[0m \u001b[0;34m.\u001b[0m\u001b[0mindexedcorpus\u001b[0m \u001b[0;32mimport\u001b[0m \u001b[0mIndexedCorpus\u001b[0m  \u001b[0;31m# noqa:F401 must appear before the other classes\u001b[0m\u001b[0;34m\u001b[0m\u001b[0;34m\u001b[0m\u001b[0m\n\u001b[0m\u001b[1;32m      7\u001b[0m \u001b[0;34m\u001b[0m\u001b[0m\n\u001b[1;32m      8\u001b[0m \u001b[0;32mfrom\u001b[0m \u001b[0;34m.\u001b[0m\u001b[0mmmcorpus\u001b[0m \u001b[0;32mimport\u001b[0m \u001b[0mMmCorpus\u001b[0m  \u001b[0;31m# noqa:F401\u001b[0m\u001b[0;34m\u001b[0m\u001b[0;34m\u001b[0m\u001b[0m\n",
            "\u001b[0;32m/usr/local/lib/python3.10/dist-packages/gensim/corpora/indexedcorpus.py\u001b[0m in \u001b[0;36m<module>\u001b[0;34m\u001b[0m\n\u001b[1;32m     12\u001b[0m \u001b[0;32mimport\u001b[0m \u001b[0mnumpy\u001b[0m\u001b[0;34m\u001b[0m\u001b[0;34m\u001b[0m\u001b[0m\n\u001b[1;32m     13\u001b[0m \u001b[0;34m\u001b[0m\u001b[0m\n\u001b[0;32m---> 14\u001b[0;31m \u001b[0;32mfrom\u001b[0m \u001b[0mgensim\u001b[0m \u001b[0;32mimport\u001b[0m \u001b[0minterfaces\u001b[0m\u001b[0;34m,\u001b[0m \u001b[0mutils\u001b[0m\u001b[0;34m\u001b[0m\u001b[0;34m\u001b[0m\u001b[0m\n\u001b[0m\u001b[1;32m     15\u001b[0m \u001b[0;34m\u001b[0m\u001b[0m\n\u001b[1;32m     16\u001b[0m \u001b[0mlogger\u001b[0m \u001b[0;34m=\u001b[0m \u001b[0mlogging\u001b[0m\u001b[0;34m.\u001b[0m\u001b[0mgetLogger\u001b[0m\u001b[0;34m(\u001b[0m\u001b[0m__name__\u001b[0m\u001b[0;34m)\u001b[0m\u001b[0;34m\u001b[0m\u001b[0;34m\u001b[0m\u001b[0m\n",
            "\u001b[0;32m/usr/local/lib/python3.10/dist-packages/gensim/interfaces.py\u001b[0m in \u001b[0;36m<module>\u001b[0;34m\u001b[0m\n\u001b[1;32m     17\u001b[0m \u001b[0;32mimport\u001b[0m \u001b[0mlogging\u001b[0m\u001b[0;34m\u001b[0m\u001b[0;34m\u001b[0m\u001b[0m\n\u001b[1;32m     18\u001b[0m \u001b[0;34m\u001b[0m\u001b[0m\n\u001b[0;32m---> 19\u001b[0;31m \u001b[0;32mfrom\u001b[0m \u001b[0mgensim\u001b[0m \u001b[0;32mimport\u001b[0m \u001b[0mutils\u001b[0m\u001b[0;34m,\u001b[0m \u001b[0mmatutils\u001b[0m\u001b[0;34m\u001b[0m\u001b[0;34m\u001b[0m\u001b[0m\n\u001b[0m\u001b[1;32m     20\u001b[0m \u001b[0;34m\u001b[0m\u001b[0m\n\u001b[1;32m     21\u001b[0m \u001b[0;34m\u001b[0m\u001b[0m\n",
            "\u001b[0;32m/usr/local/lib/python3.10/dist-packages/gensim/matutils.py\u001b[0m in \u001b[0;36m<module>\u001b[0;34m\u001b[0m\n\u001b[1;32m     20\u001b[0m \u001b[0;32mimport\u001b[0m \u001b[0mscipy\u001b[0m\u001b[0;34m.\u001b[0m\u001b[0mlinalg\u001b[0m\u001b[0;34m\u001b[0m\u001b[0;34m\u001b[0m\u001b[0m\n\u001b[1;32m     21\u001b[0m \u001b[0;32mfrom\u001b[0m \u001b[0mscipy\u001b[0m\u001b[0;34m.\u001b[0m\u001b[0mlinalg\u001b[0m\u001b[0;34m.\u001b[0m\u001b[0mlapack\u001b[0m \u001b[0;32mimport\u001b[0m \u001b[0mget_lapack_funcs\u001b[0m\u001b[0;34m\u001b[0m\u001b[0;34m\u001b[0m\u001b[0m\n\u001b[0;32m---> 22\u001b[0;31m \u001b[0;32mfrom\u001b[0m \u001b[0mscipy\u001b[0m\u001b[0;34m.\u001b[0m\u001b[0mlinalg\u001b[0m\u001b[0;34m.\u001b[0m\u001b[0mspecial_matrices\u001b[0m \u001b[0;32mimport\u001b[0m \u001b[0mtriu\u001b[0m\u001b[0;34m\u001b[0m\u001b[0;34m\u001b[0m\u001b[0m\n\u001b[0m\u001b[1;32m     23\u001b[0m \u001b[0;32mfrom\u001b[0m \u001b[0mscipy\u001b[0m\u001b[0;34m.\u001b[0m\u001b[0mspecial\u001b[0m \u001b[0;32mimport\u001b[0m \u001b[0mpsi\u001b[0m  \u001b[0;31m# gamma function utils\u001b[0m\u001b[0;34m\u001b[0m\u001b[0;34m\u001b[0m\u001b[0m\n\u001b[1;32m     24\u001b[0m \u001b[0;34m\u001b[0m\u001b[0m\n",
            "\u001b[0;31mImportError\u001b[0m: cannot import name 'triu' from 'scipy.linalg.special_matrices' (/usr/local/lib/python3.10/dist-packages/scipy/linalg/special_matrices.py)",
            "",
            "\u001b[0;31m---------------------------------------------------------------------------\u001b[0;32m\nNOTE: If your import is failing due to a missing package, you can\nmanually install dependencies using either !pip or !apt.\n\nTo view examples of installing some common dependencies, click the\n\"Open Examples\" button below.\n\u001b[0;31m---------------------------------------------------------------------------\u001b[0m\n"
          ],
          "errorDetails": {
            "actions": [
              {
                "action": "open_url",
                "actionText": "Open Examples",
                "url": "/notebooks/snippets/importing_libraries.ipynb"
              }
            ]
          }
        }
      ]
    },
    {
      "cell_type": "code",
      "source": [
        "model=Word2Vec(corpus,window=5,min_count=2 )#window, min_count, max_count, size are important hyperparameters"
      ],
      "metadata": {
        "colab": {
          "base_uri": "https://localhost:8080/",
          "height": 141
        },
        "id": "S_AGWUw81Idm",
        "outputId": "4823e3ac-b627-4acd-f482-a7d795b209b3"
      },
      "execution_count": null,
      "outputs": [
        {
          "output_type": "error",
          "ename": "NameError",
          "evalue": "name 'Word2Vec' is not defined",
          "traceback": [
            "\u001b[0;31m---------------------------------------------------------------------------\u001b[0m",
            "\u001b[0;31mNameError\u001b[0m                                 Traceback (most recent call last)",
            "\u001b[0;32m<ipython-input-52-754ff52562de>\u001b[0m in \u001b[0;36m<cell line: 1>\u001b[0;34m()\u001b[0m\n\u001b[0;32m----> 1\u001b[0;31m \u001b[0mmodel\u001b[0m\u001b[0;34m=\u001b[0m\u001b[0mWord2Vec\u001b[0m\u001b[0;34m(\u001b[0m\u001b[0mcorpus\u001b[0m\u001b[0;34m,\u001b[0m\u001b[0mwindow\u001b[0m\u001b[0;34m=\u001b[0m\u001b[0;36m5\u001b[0m\u001b[0;34m,\u001b[0m\u001b[0mmin_count\u001b[0m\u001b[0;34m=\u001b[0m\u001b[0;36m2\u001b[0m \u001b[0;34m)\u001b[0m\u001b[0;31m#window, min_count, max_count, size are important hyperparameters\u001b[0m\u001b[0;34m\u001b[0m\u001b[0;34m\u001b[0m\u001b[0m\n\u001b[0m",
            "\u001b[0;31mNameError\u001b[0m: name 'Word2Vec' is not defined"
          ]
        }
      ]
    },
    {
      "cell_type": "code",
      "source": [
        "print(model)"
      ],
      "metadata": {
        "id": "BNncT0ku1BXe"
      },
      "execution_count": null,
      "outputs": []
    },
    {
      "cell_type": "code",
      "source": [
        "model.wv.most_similar('review')"
      ],
      "metadata": {
        "id": "ddQhN7P81O1M"
      },
      "execution_count": null,
      "outputs": []
    },
    {
      "cell_type": "code",
      "source": [
        "import sys\n",
        "all_sims = model.wv.most_similar('dog', topn=sys.maxsize)\n",
        "last_10 = list(reversed(all_sims[-10:]))\n",
        "last_10"
      ],
      "metadata": {
        "id": "TFvG9SlQ2EEM"
      },
      "execution_count": null,
      "outputs": []
    },
    {
      "cell_type": "code",
      "source": [
        "model.wv['dog']"
      ],
      "metadata": {
        "id": "dPGMgVp22Fzb"
      },
      "execution_count": null,
      "outputs": []
    },
    {
      "cell_type": "markdown",
      "source": [
        "**Average Word2Vec**\n",
        "\n",
        "In average Word2Vec, the model is fed with an average of all the vectors obtained from the vectorization techniques. For eg. in this task, our model will be fed a single array of size Nx1 which is an average vector of all the vectors in the sentence.\n",
        "\n",
        "Why do we do this? - https://datascience.stackexchange.com/questions/93253/why-is-averaging-the-vectors-required-in-word2vec"
      ],
      "metadata": {
        "id": "I4oNO7x64cQE"
      }
    },
    {
      "cell_type": "code",
      "source": [
        "def avg_word2vec(doc):\n",
        "  return np.mean([model.wv[word] for word in doc if word in model.wv.index_to_key],axis=0)"
      ],
      "metadata": {
        "id": "dTPl6T_W4J0x"
      },
      "execution_count": null,
      "outputs": []
    },
    {
      "cell_type": "code",
      "source": [
        "x = []\n",
        "for doc in corpus: #look up each doc in model\n",
        "    x.append(avg_word2vec(doc))"
      ],
      "metadata": {
        "id": "DocwauR49vwk",
        "colab": {
          "base_uri": "https://localhost:8080/",
          "height": 269
        },
        "outputId": "49ee67a3-d7ef-40fc-8913-424d684b940a"
      },
      "execution_count": null,
      "outputs": [
        {
          "output_type": "error",
          "ename": "NameError",
          "evalue": "name 'model' is not defined",
          "traceback": [
            "\u001b[0;31m---------------------------------------------------------------------------\u001b[0m",
            "\u001b[0;31mNameError\u001b[0m                                 Traceback (most recent call last)",
            "\u001b[0;32m<ipython-input-66-33bfa85cc258>\u001b[0m in \u001b[0;36m<cell line: 2>\u001b[0;34m()\u001b[0m\n\u001b[1;32m      1\u001b[0m \u001b[0mx\u001b[0m \u001b[0;34m=\u001b[0m \u001b[0;34m[\u001b[0m\u001b[0;34m]\u001b[0m\u001b[0;34m\u001b[0m\u001b[0;34m\u001b[0m\u001b[0m\n\u001b[1;32m      2\u001b[0m \u001b[0;32mfor\u001b[0m \u001b[0mdoc\u001b[0m \u001b[0;32min\u001b[0m \u001b[0mcorpus\u001b[0m\u001b[0;34m:\u001b[0m \u001b[0;31m#look up each doc in model\u001b[0m\u001b[0;34m\u001b[0m\u001b[0;34m\u001b[0m\u001b[0m\n\u001b[0;32m----> 3\u001b[0;31m     \u001b[0mx\u001b[0m\u001b[0;34m.\u001b[0m\u001b[0mappend\u001b[0m\u001b[0;34m(\u001b[0m\u001b[0mavg_word2vec\u001b[0m\u001b[0;34m(\u001b[0m\u001b[0mdoc\u001b[0m\u001b[0;34m)\u001b[0m\u001b[0;34m)\u001b[0m\u001b[0;34m\u001b[0m\u001b[0;34m\u001b[0m\u001b[0m\n\u001b[0m",
            "\u001b[0;32m<ipython-input-53-e1e303066af8>\u001b[0m in \u001b[0;36mavg_word2vec\u001b[0;34m(doc)\u001b[0m\n\u001b[1;32m      1\u001b[0m \u001b[0;32mdef\u001b[0m \u001b[0mavg_word2vec\u001b[0m\u001b[0;34m(\u001b[0m\u001b[0mdoc\u001b[0m\u001b[0;34m)\u001b[0m\u001b[0;34m:\u001b[0m\u001b[0;34m\u001b[0m\u001b[0;34m\u001b[0m\u001b[0m\n\u001b[0;32m----> 2\u001b[0;31m   \u001b[0;32mreturn\u001b[0m \u001b[0mnp\u001b[0m\u001b[0;34m.\u001b[0m\u001b[0mmean\u001b[0m\u001b[0;34m(\u001b[0m\u001b[0;34m[\u001b[0m\u001b[0mmodel\u001b[0m\u001b[0;34m.\u001b[0m\u001b[0mwv\u001b[0m\u001b[0;34m[\u001b[0m\u001b[0mword\u001b[0m\u001b[0;34m]\u001b[0m \u001b[0;32mfor\u001b[0m \u001b[0mword\u001b[0m \u001b[0;32min\u001b[0m \u001b[0mdoc\u001b[0m \u001b[0;32mif\u001b[0m \u001b[0mword\u001b[0m \u001b[0;32min\u001b[0m \u001b[0mmodel\u001b[0m\u001b[0;34m.\u001b[0m\u001b[0mwv\u001b[0m\u001b[0;34m.\u001b[0m\u001b[0mindex_to_key\u001b[0m\u001b[0;34m]\u001b[0m\u001b[0;34m,\u001b[0m\u001b[0maxis\u001b[0m\u001b[0;34m=\u001b[0m\u001b[0;36m0\u001b[0m\u001b[0;34m)\u001b[0m\u001b[0;34m\u001b[0m\u001b[0;34m\u001b[0m\u001b[0m\n\u001b[0m",
            "\u001b[0;32m<ipython-input-53-e1e303066af8>\u001b[0m in \u001b[0;36m<listcomp>\u001b[0;34m(.0)\u001b[0m\n\u001b[1;32m      1\u001b[0m \u001b[0;32mdef\u001b[0m \u001b[0mavg_word2vec\u001b[0m\u001b[0;34m(\u001b[0m\u001b[0mdoc\u001b[0m\u001b[0;34m)\u001b[0m\u001b[0;34m:\u001b[0m\u001b[0;34m\u001b[0m\u001b[0;34m\u001b[0m\u001b[0m\n\u001b[0;32m----> 2\u001b[0;31m   \u001b[0;32mreturn\u001b[0m \u001b[0mnp\u001b[0m\u001b[0;34m.\u001b[0m\u001b[0mmean\u001b[0m\u001b[0;34m(\u001b[0m\u001b[0;34m[\u001b[0m\u001b[0mmodel\u001b[0m\u001b[0;34m.\u001b[0m\u001b[0mwv\u001b[0m\u001b[0;34m[\u001b[0m\u001b[0mword\u001b[0m\u001b[0;34m]\u001b[0m \u001b[0;32mfor\u001b[0m \u001b[0mword\u001b[0m \u001b[0;32min\u001b[0m \u001b[0mdoc\u001b[0m \u001b[0;32mif\u001b[0m \u001b[0mword\u001b[0m \u001b[0;32min\u001b[0m \u001b[0mmodel\u001b[0m\u001b[0;34m.\u001b[0m\u001b[0mwv\u001b[0m\u001b[0;34m.\u001b[0m\u001b[0mindex_to_key\u001b[0m\u001b[0;34m]\u001b[0m\u001b[0;34m,\u001b[0m\u001b[0maxis\u001b[0m\u001b[0;34m=\u001b[0m\u001b[0;36m0\u001b[0m\u001b[0;34m)\u001b[0m\u001b[0;34m\u001b[0m\u001b[0;34m\u001b[0m\u001b[0m\n\u001b[0m",
            "\u001b[0;31mNameError\u001b[0m: name 'model' is not defined"
          ]
        }
      ]
    },
    {
      "cell_type": "code",
      "source": [
        "#Use the above function to create a single Nx1 array where N is the number of sentences\n",
        "from array import array\n",
        "X = np.array(x,dtype=object)\n",
        "# y = df['sentiment']\n",
        "y = p['sentiment']\n",
        "X.shape, len(y)"
      ],
      "metadata": {
        "id": "3YD9NmPHMHvh"
      },
      "execution_count": null,
      "outputs": []
    },
    {
      "cell_type": "code",
      "source": [
        "from sklearn.model_selection import train_test_split\n",
        "X_train, X_test, y_train, y_test = train_test_split(X, y, test_size = 0.20, random_state = 0)"
      ],
      "metadata": {
        "id": "jpXMkgj1p4DE"
      },
      "execution_count": null,
      "outputs": []
    },
    {
      "cell_type": "code",
      "source": [
        "from sklearn.tree import DecisionTreeClassifier\n",
        "spam_detect_model = DecisionTreeClassifier()\n",
        "spam_detect_model.fit(X_train,y_train)"
      ],
      "metadata": {
        "id": "pI9-AgNgp3oA",
        "colab": {
          "base_uri": "https://localhost:8080/"
        },
        "outputId": "da6d764c-2ca7-4a02-b9f5-5324759619a5"
      },
      "execution_count": null,
      "outputs": [
        {
          "output_type": "execute_result",
          "data": {
            "text/plain": [
              "DecisionTreeClassifier()"
            ]
          },
          "metadata": {},
          "execution_count": 54
        }
      ]
    },
    {
      "cell_type": "code",
      "source": [
        "y_pred=spam_detect_model.predict(X_test)"
      ],
      "metadata": {
        "id": "NjQN200wp3RQ"
      },
      "execution_count": null,
      "outputs": []
    },
    {
      "cell_type": "code",
      "source": [
        "from sklearn.metrics import accuracy_score,classification_report\n",
        "score=accuracy_score(y_test,y_pred)\n",
        "print(score)\n",
        "print(classification_report(y_pred,y_test))"
      ],
      "metadata": {
        "id": "iCQFqne1p3Nw",
        "colab": {
          "base_uri": "https://localhost:8080/"
        },
        "outputId": "182dc0c9-ab99-47d1-eefb-e254b53e656c"
      },
      "execution_count": null,
      "outputs": [
        {
          "output_type": "stream",
          "name": "stdout",
          "text": [
            "0.51\n",
            "              precision    recall  f1-score   support\n",
            "\n",
            "    negative       0.58      0.53      0.55        57\n",
            "    positive       0.44      0.49      0.46        43\n",
            "\n",
            "    accuracy                           0.51       100\n",
            "   macro avg       0.51      0.51      0.51       100\n",
            "weighted avg       0.52      0.51      0.51       100\n",
            "\n"
          ]
        }
      ]
    },
    {
      "cell_type": "markdown",
      "source": [
        "# Research Task\n"
      ],
      "metadata": {
        "id": "kiFgLc2rCYDk"
      }
    },
    {
      "cell_type": "markdown",
      "source": [
        "Research how the Bidirectional Encoder Representations from Transformers (BERT) Model creates Word Embeddings and how it maintains context and captures semantic meaning between words and sentences."
      ],
      "metadata": {
        "id": "mz6wdsoSCcdO"
      }
    }
  ]
}